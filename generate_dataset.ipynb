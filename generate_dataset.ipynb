{
  "nbformat": 4,
  "nbformat_minor": 0,
  "metadata": {
    "colab": {
      "provenance": [],
      "gpuType": "A100",
      "authorship_tag": "ABX9TyOUC4CH/+lenFw3crQguSgc",
      "include_colab_link": true
    },
    "kernelspec": {
      "name": "python3",
      "display_name": "Python 3"
    },
    "language_info": {
      "name": "python"
    },
    "accelerator": "GPU"
  },
  "cells": [
    {
      "cell_type": "markdown",
      "metadata": {
        "id": "view-in-github",
        "colab_type": "text"
      },
      "source": [
        "<a href=\"https://colab.research.google.com/github/smthomas1704/restoration-rag/blob/main/generate_dataset.ipynb\" target=\"_parent\"><img src=\"https://colab.research.google.com/assets/colab-badge.svg\" alt=\"Open In Colab\"/></a>"
      ]
    },
    {
      "cell_type": "markdown",
      "source": [
        "# Download\n",
        "Download the zipped literature file from this Google Drive location"
      ],
      "metadata": {
        "id": "-PnazWDSRIPN"
      }
    },
    {
      "cell_type": "code",
      "execution_count": 1,
      "metadata": {
        "colab": {
          "base_uri": "https://localhost:8080/"
        },
        "id": "i0MbHH-sKD9i",
        "outputId": "bf807680-f3a0-4712-eaa2-a319e8f773fb"
      },
      "outputs": [
        {
          "output_type": "stream",
          "name": "stdout",
          "text": [
            "Downloading...\n",
            "From: https://drive.google.com/uc?id=10_inKhFuY5O8Sel88ZvlTqODsbbh4ula\n",
            "To: /content/functional_trait_literature_zipped.zip\n",
            "100% 9.80M/9.80M [00:00<00:00, 25.0MB/s]\n"
          ]
        }
      ],
      "source": [
        "!gdown https://drive.google.com/file/d/10_inKhFuY5O8Sel88ZvlTqODsbbh4ula/view?usp=drive_link -O /content/functional_trait_literature_zipped.zip --fuzzy"
      ]
    },
    {
      "cell_type": "code",
      "source": [
        "!unzip /content/functional_trait_literature_zipped.zip"
      ],
      "metadata": {
        "id": "6PJWUscXKlE3"
      },
      "execution_count": null,
      "outputs": []
    },
    {
      "cell_type": "markdown",
      "source": [
        "# Chunk and store\n",
        "\n",
        "In this portion, we'll chunk all the files into smaller paragraphs and use that for generating embeddings. We'll separately store the chunks so we can use it later, without having to re-download all the literature again.\n",
        "\n",
        "### References/Notes related to chunking\n",
        "1. https://openai.com/blog/new-and-improved-embedding-model\n",
        "2. text-embedding-ada-002 is the best model for text embedding generation\n",
        "3. https://www.pinecone.io/learn/chunking-strategies/\n",
        "4. https://python.langchain.com/docs/modules/data_connection/document_loaders/pdf#using-pypdf\n",
        "\n",
        "### Possible strategies for chunking\n",
        "1. LaTex: LaTeX is a document preparation system and markup language often used for academic papers and technical documents. By parsing the LaTeX commands and environments, you can create chunks that respect the logical organization of the content (e.g., sections, subsections, and equations), leading to more accurate and contextually relevant results.\n",
        "2. Latex taxes a string as input, so we will need to read\n",
        "3. Most of these academic papers are written in Latex and then converted to PDF. Our best bet would be to convert the PDF to Latex format first and then use the Latex based chunker to chunk things. This way paragraphs and related information will be together and contextualized.\n",
        "4. On the other hand its not a guarantee that the document was first written in LaTex."
      ],
      "metadata": {
        "id": "aahoQgRnKfZy"
      }
    },
    {
      "cell_type": "code",
      "source": [
        "!git clone https://github.com/smthomas1704/restoration-rag.git\n",
        "\n",
        "!pip install -r restoration-rag/requirements.txt\n",
        "!pip install huggingface_hub\n",
        "!pip install llama-cpp-python==0.1.78\n",
        "!pip install numpy==1.23.4\n"
      ],
      "metadata": {
        "colab": {
          "base_uri": "https://localhost:8080/",
          "height": 224
        },
        "id": "QR_nqRXjPFIA",
        "outputId": "cc3c1e3d-918c-4758-ef2e-d20b564a602b"
      },
      "execution_count": 3,
      "outputs": [
        {
          "output_type": "stream",
          "name": "stdout",
          "text": [
            "      Successfully uninstalled numpy-1.23.5\n",
            "\u001b[31mERROR: pip's dependency resolver does not currently take into account all the packages that are installed. This behaviour is the source of the following dependency conflicts.\n",
            "tensorflow 2.15.0 requires numpy<2.0.0,>=1.23.5, but you have numpy 1.23.4 which is incompatible.\n",
            "tensorflow-probability 0.22.0 requires typing-extensions<4.6.0, but you have typing-extensions 4.9.0 which is incompatible.\u001b[0m\u001b[31m\n",
            "\u001b[0mSuccessfully installed numpy-1.23.4\n"
          ]
        },
        {
          "output_type": "display_data",
          "data": {
            "application/vnd.colab-display-data+json": {
              "pip_warning": {
                "packages": [
                  "numpy"
                ]
              }
            }
          },
          "metadata": {}
        }
      ]
    },
    {
      "cell_type": "code",
      "source": [
        "from langchain.embeddings import HuggingFaceEmbeddings\n",
        "from langchain.vectorstores import FAISS\n",
        "from langchain.document_loaders import PyPDFDirectoryLoader\n",
        "from langchain.text_splitter import RecursiveCharacterTextSplitter\n",
        "\n",
        "DATA_PATH = 'functional_trait_literature' #Your root data folder path\n",
        "\n",
        "# Copied from \"Using plant functional traits to guide restoration: A case study in California coastal grassland B. SANDEL,1,4, J. D. CORBIN,2 AND M. KRUPA3\"\n",
        "documents = \"\"\"\n",
        "Functional traits and trait-based community ecology theory can provide a basis for predicting the success of a restoration treatment in a particular community (Lavorel and Garnier 2002, Pywell et al. 2003, da Silveira Pontes et al. 2010, Roberts et al. 2010), helping to ensure that treatments are applied only where they will be most beneficial. Some research to date has used functional traits to predict species’ success in restoration treatments (Pywell et al. 2003, Rob- erts et al. 2010), with considerable success. For example, Pywell et al. (2003) have shown that seed germination rates and seedling growth rates are both positively associated with species success in sown restorations. These studies have suggested which species are most likely to successfully establish when creating restored communities and indicate, in a general sense, that the relative competitive and colonizing abilities of species may be predicted from their traits. However, little research has addressed how different restoration schemes, mediated by plant traits, can alter these relative abilities. For example, traits that might be advantageous under high-nutrient conditions, such as high seedling growth rates, may be disadvantageous under restored low-nutrient conditions. Such dependencies are predicted based on trait-envi- ronment relationships and can have potentially important consequences for restoration success, but have received little testing in a restoration context.\\n\\n\n",
        "Nitrogen enrichment of terrestrial habitats via atmospheric N deposition (Galloway et al. 1995, Fenn et al. 2003) and invasion of N-fixing plants (Daehler 1998) is a significant component of anthropogenic global change (Vitousek et al. 1997a). Elevated soil N can facilitate the invasion of non-native species and complicate efforts to restore native biodiversity (Maron and Connors 1996, Vitousek et al. 1997b, Perry et al. 2010). In this study, we focus on two strategies designed to restore habitats where species invasion is associ- ated with elevated N inputs (Perry et al. 2010): carbon (C) addition and the mowing and removal of above-ground biomass. Both of these\\n\n",
        "techniques have been applied in a variety of systems to control non-native species and to favor native biodiversity (Maron and Jefferies 2001, Van Dyke et al. 2004, Blumenthal 2009, Alpert 2010, Perry et al. 2010). Carbon addition is intended to stimulate bacterial growth, leading to immobilization of N in microbial biomass and a temporary decrease in plant-available N (Baer et al. 2003, Averett et al. 2004, Corbin and D’Anto- nio 2004). Mowing is meant to remove above- ground biomass, thereby reducing the competi- tive advantage of early-germinating or highly productive species, while removing mowed clippings exports N from the system (Zobel et al. 1996, Wilson and Clark 2001).\\n\\n\n",
        "Experimental tests of these methods have produced mixed results. While both treatments have been shown to decrease the exotic-to-native ratio in some ecosystems, in others native species have experienced no benefit or those benefits have been limited to a few species (e.g., Maron and Jefferies 2001, Cione et al. 2002, Van Dyke et al. 2004, Blumenthal 2009). A likely explanation for this is that the simple classification of species into ‘‘native’’ and ‘‘exotic’’ categories may pro- vide relatively little functional information. Di- rect measurement and description of plant strategies may enable better predictions for species responses to these, and other, restoration treatments (Pywell et al. 2003, Eschen et al. 2006).\\n\\n\n",
        "One useful system for describing plant strate- gies is based on three major axes quantifying leaf, growth, and reproductive strategies (Westoby 1998). Plant species are arrayed along the leaf axis according to the speed at which they obtain returns on leaf investments (Chapin 1980, Reich et al. 1997, Westoby et al. 2002, Wright et al. 2004). Species with fast returns exhibit relatively rapid turnover of leaf biomass and tend to produce thin, low density leaves with high specific leaf area (SLA) (Wright and Westoby 2000, Westoby et al. 2002, Wright et al. 2004). The growth axis describes the structural characteris- tics of a plant, of which height is a key indicator. Tall species invest in structural biomass that improves their access to light, while short species can allocate a larger portion of their biomass towards photosynthetically active tissue, which is advantageous when light is readily available (Falster and Westoby 2003). The reproductive strategy axis can be related to seed mass, as larger-seeded species typically have a higher probability of germinating and can outcompete smaller-seeded species. However, plants that produce large seeds typically produce smaller numbers of seeds, limiting their ability to colonize available microsites (e.g., Turnbull et al. 1999, Henery and Westoby 2001).\\n\\n\n",
        "\"\"\"\n",
        "\n",
        "# For testing only\n",
        "text_splitter = RecursiveCharacterTextSplitter(chunk_size=3500, chunk_overlap=500)\n",
        "test_splits = text_splitter.split_text(documents)\n",
        "\n",
        "print(len(test_splits))\n",
        "print(test_splits[0])\n",
        "print(test_splits[1])\n",
        "\n",
        "\n",
        "# Split the files\n",
        "loader = PyPDFDirectoryLoader(DATA_PATH)\n",
        "documents = loader.load()\n",
        "text_splitter = RecursiveCharacterTextSplitter(chunk_size=3500, chunk_overlap=200)\n",
        "prod_splits = text_splitter.split_documents(documents)\n",
        "\n",
        "print(len(prod_splits))\n",
        "print(documents[0])"
      ],
      "metadata": {
        "id": "K5AJyyJUQo_1",
        "colab": {
          "base_uri": "https://localhost:8080/"
        },
        "outputId": "f43e4af3-f26e-49c1-ed7b-ea0103c8b357"
      },
      "execution_count": 11,
      "outputs": [
        {
          "output_type": "stream",
          "name": "stdout",
          "text": [
            "2\n",
            "Functional traits and trait-based community ecology theory can provide a basis for predicting the success of a restoration treatment in a particular community (Lavorel and Garnier 2002, Pywell et al. 2003, da Silveira Pontes et al. 2010, Roberts et al. 2010), helping to ensure that treatments are applied only where they will be most beneficial. Some research to date has used functional traits to predict species’ success in restoration treatments (Pywell et al. 2003, Rob- erts et al. 2010), with considerable success. For example, Pywell et al. (2003) have shown that seed germination rates and seedling growth rates are both positively associated with species success in sown restorations. These studies have suggested which species are most likely to successfully establish when creating restored communities and indicate, in a general sense, that the relative competitive and colonizing abilities of species may be predicted from their traits. However, little research has addressed how different restoration schemes, mediated by plant traits, can alter these relative abilities. For example, traits that might be advantageous under high-nutrient conditions, such as high seedling growth rates, may be disadvantageous under restored low-nutrient conditions. Such dependencies are predicted based on trait-envi- ronment relationships and can have potentially important consequences for restoration success, but have received little testing in a restoration context.\n",
            "\n",
            "\n",
            "Nitrogen enrichment of terrestrial habitats via atmospheric N deposition (Galloway et al. 1995, Fenn et al. 2003) and invasion of N-fixing plants (Daehler 1998) is a significant component of anthropogenic global change (Vitousek et al. 1997a). Elevated soil N can facilitate the invasion of non-native species and complicate efforts to restore native biodiversity (Maron and Connors 1996, Vitousek et al. 1997b, Perry et al. 2010). In this study, we focus on two strategies designed to restore habitats where species invasion is associ- ated with elevated N inputs (Perry et al. 2010): carbon (C) addition and the mowing and removal of above-ground biomass. Both of these\n",
            "\n",
            "techniques have been applied in a variety of systems to control non-native species and to favor native biodiversity (Maron and Jefferies 2001, Van Dyke et al. 2004, Blumenthal 2009, Alpert 2010, Perry et al. 2010). Carbon addition is intended to stimulate bacterial growth, leading to immobilization of N in microbial biomass and a temporary decrease in plant-available N (Baer et al. 2003, Averett et al. 2004, Corbin and D’Anto- nio 2004). Mowing is meant to remove above- ground biomass, thereby reducing the competi- tive advantage of early-germinating or highly productive species, while removing mowed clippings exports N from the system (Zobel et al. 1996, Wilson and Clark 2001).\n",
            "Experimental tests of these methods have produced mixed results. While both treatments have been shown to decrease the exotic-to-native ratio in some ecosystems, in others native species have experienced no benefit or those benefits have been limited to a few species (e.g., Maron and Jefferies 2001, Cione et al. 2002, Van Dyke et al. 2004, Blumenthal 2009). A likely explanation for this is that the simple classification of species into ‘‘native’’ and ‘‘exotic’’ categories may pro- vide relatively little functional information. Di- rect measurement and description of plant strategies may enable better predictions for species responses to these, and other, restoration treatments (Pywell et al. 2003, Eschen et al. 2006).\n",
            "\n",
            "\n",
            "One useful system for describing plant strate- gies is based on three major axes quantifying leaf, growth, and reproductive strategies (Westoby 1998). Plant species are arrayed along the leaf axis according to the speed at which they obtain returns on leaf investments (Chapin 1980, Reich et al. 1997, Westoby et al. 2002, Wright et al. 2004). Species with fast returns exhibit relatively rapid turnover of leaf biomass and tend to produce thin, low density leaves with high specific leaf area (SLA) (Wright and Westoby 2000, Westoby et al. 2002, Wright et al. 2004). The growth axis describes the structural characteris- tics of a plant, of which height is a key indicator. Tall species invest in structural biomass that improves their access to light, while short species can allocate a larger portion of their biomass towards photosynthetically active tissue, which is advantageous when light is readily available (Falster and Westoby 2003). The reproductive strategy axis can be related to seed mass, as larger-seeded species typically have a higher probability of germinating and can outcompete smaller-seeded species. However, plants that produce large seeds typically produce smaller numbers of seeds, limiting their ability to colonize available microsites (e.g., Turnbull et al. 1999, Henery and Westoby 2001).\n",
            "303\n",
            "page_content='PRACTITIONER’S PERSPECTIVE\\nUsing plant functional traits to restore Hawaiian\\nrainforest\\nRebecca Ostertag1*, Laura Warman2, Susan Cordell2and Peter M. Vitousek3\\n1University of Hawaii at Hilo, Hilo, HI 96720, USA;2Institute of Paciﬁc Islands Forestry, USDA Forest Service, Hilo,\\nHI 96720, USA; and3Stanford University, Stanford, CA 94305, USA\\nKey-words: community assembly, functional restoration, Hawaiian lowland wet forest,\\nhybrid ecosystem, invasion, multivariate trait space, tropical forest restoration\\nIntroduction\\nEcosystem restoration efforts are carried out by a variety\\nof individuals and organizations with an equally varied\\nset of goals, priorities, resources and time-scales. Once\\nrestoration of a degraded landscape or community is rec-\\nognized as necessary, choosing which species to include in\\na restoration programme can be a difﬁcult and value-\\nladen process (Fry, Power & Manning 2013; Jones 2013).\\nSpecies choice in restoration is often carried out with lim-\\nited ecological information, particularly in regard to spe-\\ncies interactions, successional processes and resource-use\\npatterns. Selecting species can be particularly problematic\\nin systems where there is no available baseline data on\\nhistorical communities, or when restoration to a historic\\nstate is not feasible for ecological, logistic or economic\\nreasons. In such cases, it may be preferable to focus on\\nrestoring site ‘functionality’ rather than returning to a his-\\ntoric baseline composition. We present a method for spe-\\ncies selection in restoration, based on the collection of\\nplant functional trait data. Using this method, managers\\ncan develop species mixtures with desired properties,\\nincluding expected predictions of interspeciﬁc interactions\\nand potential changes in biotic and abiotic conditions.\\nTo illustrate this approach, we present a case study in\\nHawaiian lowland wet forests (HLWF) in which plant\\nspecies for a restoration project were chosen based on\\ntheir functional traits, in order to help land managers\\nachieve their restoration goals while at the same time\\nallowing researchers to better understand invasion resis-\\ntance and ecosystem functioning. In our case, our choices\\nled to the development of hybrid ecosystems including\\nboth native and introduced species. However, the\\napproach that we present is not limited to novel or hybrid\\necosystem creation, because the candidate species exam-ined and functional traits measured are determined by the\\nuser.\\nWhereas restoration usually implies a return to historic\\nconditions, there is also growing attention to what some\\nauthors have called ‘intervention ecology’ ( sensu Hobbs\\net al. 2011). This view emphasizes maintaining ecosystem\\nservices and functions (Hobbs et al. 2011). The contrast\\nbetween these frameworks has been widely debated in the\\nliterature, and we do not intend to advocate the merit of\\none view over the other here. Rather, we present the logic\\nbehind a functional trait approach, describe why its use is\\nfeasible in a Hawaiian lowland forest and present a step-\\nby-step approach to the method that can be applied to a\\nwide variety of ecological systems. While we readily\\nacknowledge that in our study system, we cannot return\\nto a pre-human state, we still consider our approach ‘res-\\ntoration’ in a broad sense.\\nHow do we perform functional restoration?\\nFunctional trait theory holds that characteristics or traits\\nof each species reﬂect their resource use and life-history\\ntrade-offs (Reich 2014). A body of evidence shows that\\nplant traits vary continuously, in predictable ways, along\\nresource availability gradients –suggesting that species’\\nfunctional traits can be linked to ecosystem properties\\nand to ecosystem services (Lavorel 2013). Many studies\\nhave suggested that a robust image of a species’ func-\\ntional proﬁle can be obtained by considering traits related\\nto resource acquisition (e.g. foliar nitrogen, leaf area),\\nresource limitation (e.g. midday leaf water potential,\\nd13C-integrated water-use efﬁciency, leaf mass per area),\\nreproductive investment (e.g. height, seed mass, dispersal\\ntype) and resource allocation patterns (e.g. leaf mass per\\narea, speciﬁc root length, wood density) (Drenovsky &\\nJames 2010; Douma et al. 2012; Sonnier et al. 2012; Fry,\\nPower & Manning 2013). For restoration, selecting species\\nwith certain functional trait values can inﬂuence species\\ninteractions (including competition) and ecosystem prop-\\nerties (Suding et al. 2008). For example, if creating a more*Correspondence author. E-mail: ostertag@hawaii.edu\\nThis article has been contributed to by US Government employ-\\nees and their work is in the public domain in the USA.\\n©2015 The Authors. Journal of Applied Ecology ©2015 British Ecological SocietyJournal of Applied Ecology 2015, 52,805–809 doi: 10.1111/1365-2664.12413\\n' metadata={'source': 'functional_trait_literature/Ostertag et al. - 2015 - Using plant functional traits to restore Hawaiian .pdf', 'page': 0}\n"
          ]
        }
      ]
    },
    {
      "cell_type": "markdown",
      "source": [
        "## Now we will generate embeddings using different models for comparison\n",
        "First one is jina-embedding-l-en-v1"
      ],
      "metadata": {
        "id": "hKPYs7QuoLHs"
      }
    },
    {
      "cell_type": "code",
      "source": [
        "DB_JINA_EMBEDDING_PATH = 'vectorstore/db_jina-embedding-l-en-v1'\n",
        "\n",
        "embeddings = HuggingFaceEmbeddings(model_name='jinaai/jina-embedding-b-en-v1',\n",
        "                                       model_kwargs={'device': 'cuda'})\n",
        "\n",
        "db = FAISS.from_documents(prod_splits, embeddings)\n",
        "serialized_bytes = db.serialize_to_bytes()\n",
        "with open(\"vectorstore/serialized_db.txt\", \"wb\") as binary_file:\n",
        "    # Write bytes to file\n",
        "    binary_file.write(serialized_bytes)\n",
        "\n",
        "db.save_local(DB_JINA_EMBEDDING_PATH)"
      ],
      "metadata": {
        "id": "s2LvMgQOPF4v"
      },
      "execution_count": 14,
      "outputs": []
    },
    {
      "cell_type": "code",
      "source": [
        "docs = await db.asimilarity_search(\"I am designing a tropical dry forest restoration in an open field with no remaining tree cover. Should I plant species with higher or lower wood density to maximum initial survival?\")\n",
        "print(len(docs))\n",
        "print(docs[0].page_content)\n",
        "print(docs[1].page_content)\n",
        "print(docs[2].page_content)\n",
        "print(docs[3].page_content)"
      ],
      "metadata": {
        "colab": {
          "base_uri": "https://localhost:8080/"
        },
        "id": "q-hu1Nn3obvO",
        "outputId": "0d5ea9e1-a5c3-46e2-ece5-79f3e5b7e89b"
      },
      "execution_count": 13,
      "outputs": [
        {
          "output_type": "stream",
          "name": "stdout",
          "text": [
            "4\n",
            "resource-use strategies (acquisitive versus conservative) at thewhole-plant level may be misleading when attempting to\n",
            "determine the drivers of plant performance in a restoration\n",
            "context. Moreover, below-ground traits were largely uncorre-lated with or decoupled from above-ground traits in this\n",
            "system (electronic supplementary material, figure S3). This\n",
            "finding supports growing evidence that coordination acrossabove- and below-ground organs in tree species may be limited\n",
            "[36,63]. However, there was some indication that wood androot tissue densities were linked across species, a pattern that\n",
            "has also been observed across a broad range of Neotropical\n",
            "tree species [64]. Additionally , the traits tightly coupled with\n",
            "seedling survival in below-ground PC1 (root diameter andRMF; figure 2) were only correlated with above-ground traits\n",
            "in one instance. Thus, our findings suggest that despite the dif-\n",
            "ficulty associated with quantifying below-ground traits,investing time into these efforts and improving our capacity\n",
            "to predict species-level trait values out of sample (e.g. [65])\n",
            "will most likely improve the design of tropical dry forest restor-ations. Moreover, large-scale forest biodiversity –ecosystem\n",
            "function experiments have demonstrated that maximizing func-\n",
            "tional diversity in planted forests promotes higher productivity[66] and increases resilience and ecosystem services [67]. Thus,\n",
            "ensuring that planted species mixes are highly diverse, in terms\n",
            "of both above- and below-ground functional attributes, is likelyto be important, and using planting mixes with high species\n",
            "richness is a strategy demonstrated to meet this goal [68].\n",
            "5. Conclusion\n",
            "By highlighting the traits that predict tree seedling survival,our analysis provides a path forward for the selection of\n",
            "species to promote survival in tropical dry forest restorationefforts. Selecting species with fast vertical growth rates has\n",
            "the potential to promote rapid seedling establishment when\n",
            "planted into degraded Vertisols, but this effect is only appar-ent in species that also invest in thicker fine roots, and more\n",
            "extensive root structures. As such, this analysis highlights the\n",
            "importance of considering below-ground root characteristics,relative to above-ground stem and leaf traits, when predicting\n",
            "seedling survival within these seasonally dry ecosystems.\n",
            "Given the typically low seedling survival rates in tropicaldry forests, these insights into species selection may poten-\n",
            "tially be invaluable for promoting the initial establishment\n",
            "of vegetation. By highlighting the key traits that promoteseedling survival, our study can serve as a guideline to\n",
            "select species that can tolerate initial planting conditions in\n",
            "tropical dry forest restoration efforts.\n",
            "Data accessibility.\n",
            "All survival and growth data are available from the\n",
            "Dryad Digital Repository: https://doi.org/10.5061/dryad.fd57r\n",
            "[69]. All functional trait data and code and data to reproduce analyses\n",
            "and figures are available from Figshare [70].\n",
            "Supplementary material is available online [71].\n",
            "Authors ’contributions. L.K.W.: conceptualization, data curation, formal\n",
            "analysis, funding acquisition, investigation, methodology, projectadministration, resources, validation, visualization, writing —original\n",
            "draft, writing —review and editing; C.A.: data curation, formal analy-\n",
            "sis, validation, visualization, writing —original draft, writing —\n",
            "review and editing; T.W.C.: data curation, formal analysis, writ-\n",
            "projects across the globe is important to ensure that resources\n",
            "are efficiently allocated by countries committed to the UN\n",
            "Decade on Ecosystem Restoration (see https://www.deca-\n",
            "deonrestoration.org/).\n",
            "Despite the importance of appropriate tree species selection\n",
            "for the success of restoration efforts, few studies have character-\n",
            "ized the plant traits that are most effective at promotingsurvival within degraded landscapes. A long history of eco-\n",
            "logical literature highlights how the performance of plants is\n",
            "contingent upon the expression of traits that can confer a selec-tive advantage under a given set of environmental conditions.\n",
            "A range of morphological, physiological and biochemical\n",
            "functional traits [10] can predict tropical plant growth underdifferent environmental conditions [11,12]. Moreover, there\n",
            "have been calls to use functional traits to develop species\n",
            "mixes for tropical forest restoration [9,13]. Additionally ,integrating local knowledge of species life-history traits (e.g.\n",
            "successional status) when designing restoration interventions\n",
            "can not only improve outcomes, but also ensure that culturallyand economically important species are explicitly included\n",
            "in the design process [14]. Yet, applying this knowledge to pre-\n",
            "dict the survival of seedlings within a restoration contextremains a major challenge as trait expression, survival rates\n",
            "and their interactions can vary significantly at these initial\n",
            "stages of development. In particular, within tropical dryforests —the second largest forested tropical biome [15] and\n",
            "one of the most endangered ecosystems [16] —seedlings are\n",
            "exposed to strong dry seasons within the first year of growth,and survival in the initial years of development is imperative\n",
            "to ensure that restoration is effective in this system [17,18].\n",
            "Globally , tropical dry forests have been extensively deforested[19]. It is estimated that 97% of remaining tropical dry forests\n",
            "are threatened by climate change and human activities [20],\n",
            "making them a top-priority for landscape scale restorationefforts. Recent work highlights how physiological leaf traits\n",
            "such as water-use efficiency can be key indicators of seedling\n",
            "survival during initial phases of development in both tropicaldry [21] and wet forests [22]. As such, the selection of species\n",
            "mixtures with high community-weighted water-use efficiency\n",
            "could potentially improve early survival rates at the commu-nity level. Increasing survival at early restoration stages has\n",
            "direct consequences for the development of soil organic\n",
            "matter [23], canopy structure [24] and subsequent recruitmentof other native species [25,26]. However, by focusing only on\n",
            "the linear correlations with a few plant traits, these studies\n",
            "cannot account for the majority of the variation in species sur-vival rates, or identify the mixtures of trait combinations likely\n",
            "to promote the initial survival of seedlings in the long term.\n",
            "Given the multitude of approaches that plants use to com-\n",
            "pete for space, light, water and nutrients within heterogeneous\n",
            "environments, it is rare that any single trait can directly predict\n",
            "tree survival rates in a given location [27]. However, certaintraits can be indicative of general life-history strategies. In par-\n",
            "ticular, the growth rate of trees is a well-described indicator of\n",
            "changes in community assembly over time, with fast-growingresource-demanding species dominating in early successional\n",
            "stages and being gradually replaced by slower-growing species\n",
            "light tolerance can impact survival rates within plantings (Augspurger, 1984),\tmany\tspecies\tare\table\tto\tacclimate\tto\thigh-\tlight\tconditions\t(Loik\t\n",
            "&\tHoll,\t1999).\tGiven\tthat\tthese\tspecies-\t specific\tresponses\thave\tlargely \t\n",
            "been untested in restoration experiments, and given our strong wood density\tresults,\tfuture\tstudies\tof\tspecies-\tspecific\tresponses\tto\thigh-\t\n",
            "light conditions are clearly warranted.\n",
            "changes in community assembly over time, with fast-growingresource-demanding species dominating in early successional\n",
            "stages and being gradually replaced by slower-growing species\n",
            "with more efficient resource-use [28]. As such, differencesbetween ‘acquisitive ’(i.e. typically fast-growing species that\n",
            "maximize resource capture and are sensitive to abiotic stress)\n",
            "and‘conservative ’(i.e. typically slow-growing, stress-tolerant\n",
            "species with higher resource-use efficiency) functional strat-\n",
            "egies ( sensu [27]) may provide a useful framework forguiding species selection that leads to high establishment\n",
            "rates of planted seedlings within a restoration context.\n",
            "Indeed, in a tropical dry forest field experiment, Gerhardt\n",
            "[29] highlighted that within-species tree seedling survivalincreased with higher height increment growth rates. However,\n",
            "although this ‘acquisitive ’growth strategy may promote tree\n",
            "survival within early stages of succession, rapid growth canoften come at the expense of more ‘conservative ’strategies\n",
            "(e.g. that can be critical for species survival in harsh dry\n",
            "conditions).\n",
            "In tropical dry forests, tree growth and survival are strongly\n",
            "limited by seasonal water availability [30], and species survival\n",
            "may be tightly linked to the successful development of deep,robust rooting systems [31]. However, while below-ground\n",
            "plant traits have been linked with plant vital rates (e.g. survival\n",
            "and growth) across terrestrial ecosystems, these traits are rarelyconsidered when evaluating plant performance, especially in\n",
            "the context of restoration [32]. If investment in fast above-\n",
            "ground growth (i.e. acquisitive strategy) comes at the expenseof plant investment in thicker absorptive fine roots and\n",
            "deeper supporting root systems (i.e. conservative strategy),\n",
            "then it may potentially limit seedling survival within tropicaldry forest. Yet, until now, no study has explored the relative\n",
            "importance of below-ground traits relative to above-ground\n",
            "traits, or the trade-offs between trait combinations, that maybe essential for improving species selection to promote\n",
            "increased survival rates within tropical dry forest restoration.\n",
            "In this study, we examined growth and survival of 14 native\n",
            "tree species (840 seedlings in total) within a tropical dry forest\n",
            "restoration experiment in Costa Rica. These species are\n",
            "common in early successional forests in the region, are inclus-ive of the most dominant tree families [33] and encompass a\n",
            "wide range of life-history and resource-use traits [34]. Across\n",
            "all species, we measured six below-ground and 22 above-ground traits used to place species on leaf, stem and root econ-\n",
            "omic trait spectra so that we could group trait values onto an\n",
            "acquisitive to conservative gradient [35], then examined howinterspecific trait variation corresponds to species survival\n",
            "rates over the first 2 years of seedling growth. By examining\n",
            "the interactions between trait complexes, we test the relativeimportance of above- versus below-ground traits, and examine\n",
            "how interactions between trait combinations mediate seedling\n",
            "survival rates. Last, we investigated if trait syndromes (i.e. fastversus slow [35]) are coordinated across above- and below-\n",
            "ground organs, an area of open debate for tree species [36].\n",
            "Ultimately, by taking a broad scope, we aim to identify a\n",
            "clear hierarchy of traits that should be considered in order to\n",
            "promote the survival of planted seedlings within tropical dry\n",
            "forest restoration.\n",
            "2. Material and methods\n"
          ]
        }
      ]
    },
    {
      "cell_type": "code",
      "source": [
        "!pip install openai\n",
        "!pip install langchain_experimental"
      ],
      "metadata": {
        "id": "99LU-dVyw_9z"
      },
      "execution_count": null,
      "outputs": []
    },
    {
      "cell_type": "code",
      "source": [
        "from google.colab import userdata\n",
        "from openai import OpenAI\n",
        "from langchain.chains import RetrievalQA\n",
        "from langchain.chat_models import ChatOpenAI\n",
        "from langchain.document_loaders import TextLoader\n",
        "from langchain.vectorstores import DocArrayInMemorySearch\n",
        "from IPython.display import display, Markdown\n",
        "from langchain.text_splitter import CharacterTextSplitter\n",
        "from langchain.embeddings import OpenAIEmbeddings, HuggingFaceInstructEmbeddings\n",
        "from langchain.vectorstores import FAISS\n",
        "from langchain.memory import ConversationBufferMemory\n",
        "from langchain.chains import ConversationalRetrievalChain\n",
        "from langchain.indexes import VectorstoreIndexCreator\n",
        "from langchain_experimental.agents.agent_toolkits.csv.base import create_csv_agent\n",
        "from langchain.agents.agent_types import AgentType\n",
        "from langchain.memory import ConversationBufferMemory\n",
        "import tiktoken\n",
        "import os\n",
        "\n",
        "OPENAI_API_KEY = userdata.get('COLABORATIVE_EARTH_KEY')\n",
        "llm_model = \"gpt-3.5-turbo\"\n",
        "\n",
        "os.environ[\"OPENAI_API_KEY\"] = OPENAI_API_KEY"
      ],
      "metadata": {
        "id": "3K8kg2VYy3DG"
      },
      "execution_count": 24,
      "outputs": []
    },
    {
      "cell_type": "code",
      "source": [
        "llm = ChatOpenAI(temperature=0.7, model_name=\"gpt-3.5-turbo\")\n",
        "\n",
        "memory = ConversationBufferMemory(\n",
        "memory_key='chat_history', return_messages=True)\n",
        "retriever = db.as_retriever(\n",
        "    search_kwargs={\"k\": 6}\n",
        ")\n",
        "conversation_chain = ConversationalRetrievalChain.from_llm(\n",
        "        llm=llm,\n",
        "        chain_type=\"stuff\",\n",
        "        retriever=retriever,\n",
        "        memory=memory\n",
        ")"
      ],
      "metadata": {
        "id": "x0alVY-OyveW"
      },
      "execution_count": 34,
      "outputs": []
    },
    {
      "cell_type": "code",
      "source": [
        "query = \"Which functional traits are useful to measure to understand species performance in restoration plantings?\"\n",
        "result = conversation_chain({\"question\": query})\n",
        "answer = result[\"answer\"]\n",
        "answer"
      ],
      "metadata": {
        "colab": {
          "base_uri": "https://localhost:8080/",
          "height": 107
        },
        "id": "J46fLZZH08dj",
        "outputId": "aec9a9c5-7a1a-497c-e1d6-a140d5060f7e"
      },
      "execution_count": 38,
      "outputs": [
        {
          "output_type": "execute_result",
          "data": {
            "text/plain": [
              "'The literature suggests that the following functional traits are helpful in understanding the performance of species in restoration plantings:\\n\\n1. Foliage Nitrogen: Reflects resource acquisition.\\n2. Seed mass: Reflects reproductive investment and dispersal.\\n3. Specific leaf area: Reflects resource allocation.\\n4. Wood density: Reflects resource allocation.\\n5. Leaf lifespan: Reflects resource allocation.\\n6. Maximum plant height: Reflects dispersal.\\n\\nThese traits can provide a foundation for assessing the performance of species in restoration plantings.'"
            ],
            "application/vnd.google.colaboratory.intrinsic+json": {
              "type": "string"
            }
          },
          "metadata": {},
          "execution_count": 38
        }
      ]
    }
  ]
}