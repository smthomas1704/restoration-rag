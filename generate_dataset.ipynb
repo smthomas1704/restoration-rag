{
  "nbformat": 4,
  "nbformat_minor": 0,
  "metadata": {
    "colab": {
      "provenance": [],
      "gpuType": "A100",
      "authorship_tag": "ABX9TyOCNrjYD/x4s6sBk12XHxqV",
      "include_colab_link": true
    },
    "kernelspec": {
      "name": "python3",
      "display_name": "Python 3"
    },
    "language_info": {
      "name": "python"
    },
    "accelerator": "GPU"
  },
  "cells": [
    {
      "cell_type": "markdown",
      "metadata": {
        "id": "view-in-github",
        "colab_type": "text"
      },
      "source": [
        "<a href=\"https://colab.research.google.com/github/smthomas1704/restoration-rag/blob/main/generate_dataset.ipynb\" target=\"_parent\"><img src=\"https://colab.research.google.com/assets/colab-badge.svg\" alt=\"Open In Colab\"/></a>"
      ]
    },
    {
      "cell_type": "markdown",
      "source": [
        "# Download\n",
        "Download the zipped literature file from this Google Drive location"
      ],
      "metadata": {
        "id": "-PnazWDSRIPN"
      }
    },
    {
      "cell_type": "code",
      "execution_count": 1,
      "metadata": {
        "colab": {
          "base_uri": "https://localhost:8080/"
        },
        "id": "i0MbHH-sKD9i",
        "outputId": "bf807680-f3a0-4712-eaa2-a319e8f773fb"
      },
      "outputs": [
        {
          "output_type": "stream",
          "name": "stdout",
          "text": [
            "Downloading...\n",
            "From: https://drive.google.com/uc?id=10_inKhFuY5O8Sel88ZvlTqODsbbh4ula\n",
            "To: /content/functional_trait_literature_zipped.zip\n",
            "100% 9.80M/9.80M [00:00<00:00, 25.0MB/s]\n"
          ]
        }
      ],
      "source": [
        "!gdown https://drive.google.com/file/d/10_inKhFuY5O8Sel88ZvlTqODsbbh4ula/view?usp=drive_link -O /content/functional_trait_literature_zipped.zip --fuzzy"
      ]
    },
    {
      "cell_type": "code",
      "source": [
        "!unzip /content/functional_trait_literature_zipped.zip"
      ],
      "metadata": {
        "id": "6PJWUscXKlE3"
      },
      "execution_count": null,
      "outputs": []
    },
    {
      "cell_type": "markdown",
      "source": [
        "# Chunk and store\n",
        "\n",
        "In this portion, we'll chunk all the files into smaller paragraphs and use that for generating embeddings. We'll separately store the chunks so we can use it later, without having to re-download all the literature again.\n",
        "\n",
        "### References/Notes related to chunking\n",
        "1. https://openai.com/blog/new-and-improved-embedding-model\n",
        "2. text-embedding-ada-002 is the best model for text embedding generation\n",
        "3. https://www.pinecone.io/learn/chunking-strategies/\n",
        "4. https://python.langchain.com/docs/modules/data_connection/document_loaders/pdf#using-pypdf\n",
        "\n",
        "### Possible strategies for chunking\n",
        "1. LaTex: LaTeX is a document preparation system and markup language often used for academic papers and technical documents. By parsing the LaTeX commands and environments, you can create chunks that respect the logical organization of the content (e.g., sections, subsections, and equations), leading to more accurate and contextually relevant results.\n",
        "2. Latex taxes a string as input, so we will need to read\n",
        "3. Most of these academic papers are written in Latex and then converted to PDF. Our best bet would be to convert the PDF to Latex format first and then use the Latex based chunker to chunk things. This way paragraphs and related information will be together and contextualized.\n",
        "4. On the other hand its not a guarantee that the document was first written in LaTex."
      ],
      "metadata": {
        "id": "aahoQgRnKfZy"
      }
    },
    {
      "cell_type": "code",
      "source": [
        "!git clone https://github.com/smthomas1704/restoration-rag.git\n",
        "\n",
        "!pip install -r restoration-rag/requirements.txt\n",
        "!pip install huggingface_hub\n",
        "!pip install llama-cpp-python==0.1.78\n",
        "!pip install numpy==1.23.4\n"
      ],
      "metadata": {
        "colab": {
          "base_uri": "https://localhost:8080/",
          "height": 224
        },
        "id": "QR_nqRXjPFIA",
        "outputId": "cc3c1e3d-918c-4758-ef2e-d20b564a602b"
      },
      "execution_count": 3,
      "outputs": [
        {
          "output_type": "stream",
          "name": "stdout",
          "text": [
            "      Successfully uninstalled numpy-1.23.5\n",
            "\u001b[31mERROR: pip's dependency resolver does not currently take into account all the packages that are installed. This behaviour is the source of the following dependency conflicts.\n",
            "tensorflow 2.15.0 requires numpy<2.0.0,>=1.23.5, but you have numpy 1.23.4 which is incompatible.\n",
            "tensorflow-probability 0.22.0 requires typing-extensions<4.6.0, but you have typing-extensions 4.9.0 which is incompatible.\u001b[0m\u001b[31m\n",
            "\u001b[0mSuccessfully installed numpy-1.23.4\n"
          ]
        },
        {
          "output_type": "display_data",
          "data": {
            "application/vnd.colab-display-data+json": {
              "pip_warning": {
                "packages": [
                  "numpy"
                ]
              }
            }
          },
          "metadata": {}
        }
      ]
    },
    {
      "cell_type": "code",
      "source": [
        "from langchain.embeddings import HuggingFaceEmbeddings\n",
        "from langchain.vectorstores import FAISS\n",
        "from langchain.document_loaders import PyPDFDirectoryLoader\n",
        "from langchain.text_splitter import RecursiveCharacterTextSplitter\n",
        "\n",
        "DATA_PATH = 'functional_trait_literature' #Your root data folder path\n",
        "\n",
        "# Copied from \"Using plant functional traits to guide restoration: A case study in California coastal grassland B. SANDEL,1,4, J. D. CORBIN,2 AND M. KRUPA3\"\n",
        "documents = \"\"\"\n",
        "Functional traits and trait-based community ecology theory can provide a basis for predicting the success of a restoration treatment in a particular community (Lavorel and Garnier 2002, Pywell et al. 2003, da Silveira Pontes et al. 2010, Roberts et al. 2010), helping to ensure that treatments are applied only where they will be most beneficial. Some research to date has used functional traits to predict species’ success in restoration treatments (Pywell et al. 2003, Rob- erts et al. 2010), with considerable success. For example, Pywell et al. (2003) have shown that seed germination rates and seedling growth rates are both positively associated with species success in sown restorations. These studies have suggested which species are most likely to successfully establish when creating restored communities and indicate, in a general sense, that the relative competitive and colonizing abilities of species may be predicted from their traits. However, little research has addressed how different restoration schemes, mediated by plant traits, can alter these relative abilities. For example, traits that might be advantageous under high-nutrient conditions, such as high seedling growth rates, may be disadvantageous under restored low-nutrient conditions. Such dependencies are predicted based on trait-envi- ronment relationships and can have potentially important consequences for restoration success, but have received little testing in a restoration context.\\n\\n\n",
        "Nitrogen enrichment of terrestrial habitats via atmospheric N deposition (Galloway et al. 1995, Fenn et al. 2003) and invasion of N-fixing plants (Daehler 1998) is a significant component of anthropogenic global change (Vitousek et al. 1997a). Elevated soil N can facilitate the invasion of non-native species and complicate efforts to restore native biodiversity (Maron and Connors 1996, Vitousek et al. 1997b, Perry et al. 2010). In this study, we focus on two strategies designed to restore habitats where species invasion is associ- ated with elevated N inputs (Perry et al. 2010): carbon (C) addition and the mowing and removal of above-ground biomass. Both of these\\n\n",
        "techniques have been applied in a variety of systems to control non-native species and to favor native biodiversity (Maron and Jefferies 2001, Van Dyke et al. 2004, Blumenthal 2009, Alpert 2010, Perry et al. 2010). Carbon addition is intended to stimulate bacterial growth, leading to immobilization of N in microbial biomass and a temporary decrease in plant-available N (Baer et al. 2003, Averett et al. 2004, Corbin and D’Anto- nio 2004). Mowing is meant to remove above- ground biomass, thereby reducing the competi- tive advantage of early-germinating or highly productive species, while removing mowed clippings exports N from the system (Zobel et al. 1996, Wilson and Clark 2001).\\n\\n\n",
        "Experimental tests of these methods have produced mixed results. While both treatments have been shown to decrease the exotic-to-native ratio in some ecosystems, in others native species have experienced no benefit or those benefits have been limited to a few species (e.g., Maron and Jefferies 2001, Cione et al. 2002, Van Dyke et al. 2004, Blumenthal 2009). A likely explanation for this is that the simple classification of species into ‘‘native’’ and ‘‘exotic’’ categories may pro- vide relatively little functional information. Di- rect measurement and description of plant strategies may enable better predictions for species responses to these, and other, restoration treatments (Pywell et al. 2003, Eschen et al. 2006).\\n\\n\n",
        "One useful system for describing plant strate- gies is based on three major axes quantifying leaf, growth, and reproductive strategies (Westoby 1998). Plant species are arrayed along the leaf axis according to the speed at which they obtain returns on leaf investments (Chapin 1980, Reich et al. 1997, Westoby et al. 2002, Wright et al. 2004). Species with fast returns exhibit relatively rapid turnover of leaf biomass and tend to produce thin, low density leaves with high specific leaf area (SLA) (Wright and Westoby 2000, Westoby et al. 2002, Wright et al. 2004). The growth axis describes the structural characteris- tics of a plant, of which height is a key indicator. Tall species invest in structural biomass that improves their access to light, while short species can allocate a larger portion of their biomass towards photosynthetically active tissue, which is advantageous when light is readily available (Falster and Westoby 2003). The reproductive strategy axis can be related to seed mass, as larger-seeded species typically have a higher probability of germinating and can outcompete smaller-seeded species. However, plants that produce large seeds typically produce smaller numbers of seeds, limiting their ability to colonize available microsites (e.g., Turnbull et al. 1999, Henery and Westoby 2001).\\n\\n\n",
        "\"\"\"\n",
        "\n",
        "# For testing only\n",
        "text_splitter = RecursiveCharacterTextSplitter(chunk_size=1500, chunk_overlap=200)\n",
        "test_splits = text_splitter.split_text(documents)\n",
        "\n",
        "print(len(test_splits))\n",
        "print(test_splits[0])\n",
        "print(test_splits[1])\n",
        "\n",
        "\n",
        "# Split the files\n",
        "loader = PyPDFDirectoryLoader(DATA_PATH)\n",
        "documents = loader.load()\n",
        "text_splitter = RecursiveCharacterTextSplitter(chunk_size=1500, chunk_overlap=200)\n",
        "prod_splits = text_splitter.split_documents(documents)\n",
        "\n",
        "print(len(prod_splits))\n",
        "print(documents[0])"
      ],
      "metadata": {
        "id": "K5AJyyJUQo_1",
        "colab": {
          "base_uri": "https://localhost:8080/"
        },
        "outputId": "3ea7f988-6438-4ac2-96a2-ff136aed3484"
      },
      "execution_count": 1,
      "outputs": [
        {
          "output_type": "stream",
          "name": "stdout",
          "text": [
            "4\n",
            "Functional traits and trait-based community ecology theory can provide a basis for predicting the success of a restoration treatment in a particular community (Lavorel and Garnier 2002, Pywell et al. 2003, da Silveira Pontes et al. 2010, Roberts et al. 2010), helping to ensure that treatments are applied only where they will be most beneficial. Some research to date has used functional traits to predict species’ success in restoration treatments (Pywell et al. 2003, Rob- erts et al. 2010), with considerable success. For example, Pywell et al. (2003) have shown that seed germination rates and seedling growth rates are both positively associated with species success in sown restorations. These studies have suggested which species are most likely to successfully establish when creating restored communities and indicate, in a general sense, that the relative competitive and colonizing abilities of species may be predicted from their traits. However, little research has addressed how different restoration schemes, mediated by plant traits, can alter these relative abilities. For example, traits that might be advantageous under high-nutrient conditions, such as high seedling growth rates, may be disadvantageous under restored low-nutrient conditions. Such dependencies are predicted based on trait-envi- ronment relationships and can have potentially important consequences for restoration success, but have received little testing in a restoration context.\n",
            "Nitrogen enrichment of terrestrial habitats via atmospheric N deposition (Galloway et al. 1995, Fenn et al. 2003) and invasion of N-fixing plants (Daehler 1998) is a significant component of anthropogenic global change (Vitousek et al. 1997a). Elevated soil N can facilitate the invasion of non-native species and complicate efforts to restore native biodiversity (Maron and Connors 1996, Vitousek et al. 1997b, Perry et al. 2010). In this study, we focus on two strategies designed to restore habitats where species invasion is associ- ated with elevated N inputs (Perry et al. 2010): carbon (C) addition and the mowing and removal of above-ground biomass. Both of these\n",
            "\n",
            "techniques have been applied in a variety of systems to control non-native species and to favor native biodiversity (Maron and Jefferies 2001, Van Dyke et al. 2004, Blumenthal 2009, Alpert 2010, Perry et al. 2010). Carbon addition is intended to stimulate bacterial growth, leading to immobilization of N in microbial biomass and a temporary decrease in plant-available N (Baer et al. 2003, Averett et al. 2004, Corbin and D’Anto- nio 2004). Mowing is meant to remove above- ground biomass, thereby reducing the competi- tive advantage of early-germinating or highly productive species, while removing mowed clippings exports N from the system (Zobel et al. 1996, Wilson and Clark 2001).\n",
            "636\n",
            "page_content='PRACTITIONER’S PERSPECTIVE\\nUsing plant functional traits to restore Hawaiian\\nrainforest\\nRebecca Ostertag1*, Laura Warman2, Susan Cordell2and Peter M. Vitousek3\\n1University of Hawaii at Hilo, Hilo, HI 96720, USA;2Institute of Paciﬁc Islands Forestry, USDA Forest Service, Hilo,\\nHI 96720, USA; and3Stanford University, Stanford, CA 94305, USA\\nKey-words: community assembly, functional restoration, Hawaiian lowland wet forest,\\nhybrid ecosystem, invasion, multivariate trait space, tropical forest restoration\\nIntroduction\\nEcosystem restoration efforts are carried out by a variety\\nof individuals and organizations with an equally varied\\nset of goals, priorities, resources and time-scales. Once\\nrestoration of a degraded landscape or community is rec-\\nognized as necessary, choosing which species to include in\\na restoration programme can be a difﬁcult and value-\\nladen process (Fry, Power & Manning 2013; Jones 2013).\\nSpecies choice in restoration is often carried out with lim-\\nited ecological information, particularly in regard to spe-\\ncies interactions, successional processes and resource-use\\npatterns. Selecting species can be particularly problematic\\nin systems where there is no available baseline data on\\nhistorical communities, or when restoration to a historic\\nstate is not feasible for ecological, logistic or economic\\nreasons. In such cases, it may be preferable to focus on\\nrestoring site ‘functionality’ rather than returning to a his-\\ntoric baseline composition. We present a method for spe-\\ncies selection in restoration, based on the collection of\\nplant functional trait data. Using this method, managers\\ncan develop species mixtures with desired properties,\\nincluding expected predictions of interspeciﬁc interactions\\nand potential changes in biotic and abiotic conditions.\\nTo illustrate this approach, we present a case study in\\nHawaiian lowland wet forests (HLWF) in which plant\\nspecies for a restoration project were chosen based on\\ntheir functional traits, in order to help land managers\\nachieve their restoration goals while at the same time\\nallowing researchers to better understand invasion resis-\\ntance and ecosystem functioning. In our case, our choices\\nled to the development of hybrid ecosystems including\\nboth native and introduced species. However, the\\napproach that we present is not limited to novel or hybrid\\necosystem creation, because the candidate species exam-ined and functional traits measured are determined by the\\nuser.\\nWhereas restoration usually implies a return to historic\\nconditions, there is also growing attention to what some\\nauthors have called ‘intervention ecology’ ( sensu Hobbs\\net al. 2011). This view emphasizes maintaining ecosystem\\nservices and functions (Hobbs et al. 2011). The contrast\\nbetween these frameworks has been widely debated in the\\nliterature, and we do not intend to advocate the merit of\\none view over the other here. Rather, we present the logic\\nbehind a functional trait approach, describe why its use is\\nfeasible in a Hawaiian lowland forest and present a step-\\nby-step approach to the method that can be applied to a\\nwide variety of ecological systems. While we readily\\nacknowledge that in our study system, we cannot return\\nto a pre-human state, we still consider our approach ‘res-\\ntoration’ in a broad sense.\\nHow do we perform functional restoration?\\nFunctional trait theory holds that characteristics or traits\\nof each species reﬂect their resource use and life-history\\ntrade-offs (Reich 2014). A body of evidence shows that\\nplant traits vary continuously, in predictable ways, along\\nresource availability gradients –suggesting that species’\\nfunctional traits can be linked to ecosystem properties\\nand to ecosystem services (Lavorel 2013). Many studies\\nhave suggested that a robust image of a species’ func-\\ntional proﬁle can be obtained by considering traits related\\nto resource acquisition (e.g. foliar nitrogen, leaf area),\\nresource limitation (e.g. midday leaf water potential,\\nd13C-integrated water-use efﬁciency, leaf mass per area),\\nreproductive investment (e.g. height, seed mass, dispersal\\ntype) and resource allocation patterns (e.g. leaf mass per\\narea, speciﬁc root length, wood density) (Drenovsky &\\nJames 2010; Douma et al. 2012; Sonnier et al. 2012; Fry,\\nPower & Manning 2013). For restoration, selecting species\\nwith certain functional trait values can inﬂuence species\\ninteractions (including competition) and ecosystem prop-\\nerties (Suding et al. 2008). For example, if creating a more*Correspondence author. E-mail: ostertag@hawaii.edu\\nThis article has been contributed to by US Government employ-\\nees and their work is in the public domain in the USA.\\n©2015 The Authors. Journal of Applied Ecology ©2015 British Ecological SocietyJournal of Applied Ecology 2015, 52,805–809 doi: 10.1111/1365-2664.12413\\n' metadata={'source': 'functional_trait_literature/Ostertag et al. - 2015 - Using plant functional traits to restore Hawaiian .pdf', 'page': 0}\n"
          ]
        }
      ]
    },
    {
      "cell_type": "markdown",
      "source": [
        "## Now we will generate embeddings using different models for comparison\n",
        "First one is jina-embedding-l-en-v1"
      ],
      "metadata": {
        "id": "hKPYs7QuoLHs"
      }
    },
    {
      "cell_type": "code",
      "source": [
        "DB_JINA_EMBEDDING_PATH = 'vectorstore/db_jina-embedding-l-en-v1'\n",
        "\n",
        "embeddings = HuggingFaceEmbeddings(model_name='jinaai/jina-embedding-b-en-v1',\n",
        "                                       model_kwargs={'device': 'cuda'})\n",
        "\n",
        "db = FAISS.from_documents(prod_splits, embeddings)\n",
        "db.serialize_to_bytes()\n",
        "db.save_local(DB_JINA_EMBEDDING_PATH)"
      ],
      "metadata": {
        "id": "s2LvMgQOPF4v"
      },
      "execution_count": 3,
      "outputs": []
    },
    {
      "cell_type": "code",
      "source": [
        "docs = await db.asimilarity_search(\"I am designing a tropical dry forest restoration in an open field with no remaining tree cover. Should I plant species with higher or lower wood density to maximum initial survival?\")\n",
        "print(len(docs))\n",
        "print(docs[0].page_content)\n",
        "print(docs[1].page_content)\n",
        "print(docs[2].page_content)\n",
        "print(docs[3].page_content)"
      ],
      "metadata": {
        "id": "q-hu1Nn3obvO",
        "outputId": "db148fd7-c72d-43bc-e891-797b8112cb9c",
        "colab": {
          "base_uri": "https://localhost:8080/"
        }
      },
      "execution_count": 10,
      "outputs": [
        {
          "output_type": "stream",
          "name": "stdout",
          "text": [
            "4\n",
            "sity\tand\tplanting\tlocation.\tOur\tresults\tsupport\tthe\tuse\tof\tspecies\twith\tmore\tcon-\n",
            "servative\tgrowth\tstrategies\twhen\tlimited\tfunds\tare\tavailable\tfor\tfollow-\tup\t\n",
            "plantings. High wood density species had significantly higher survival than lower \n",
            "wood density, early successional species typically used in rainforest restoration \n",
            "plantings.\n",
            "5. Synthesis and applications .\tOur\tstudy\thighlights\tthe\timportance\tof\twood\tdensity\tand\t\n",
            "landscape structure to the initial survival of rainforest plantings. Factors influencing seedling survival shifted over time but, most importantly, our results highlight that, \n",
            "when planting into abandoned pastures, it may be preferable to select species with higher wood densities to maximize survival during the crucial early stages of estab-\n",
            "lishment and growth.\n",
            "rates of planted seedlings within a restoration context.\n",
            "Indeed, in a tropical dry forest field experiment, Gerhardt\n",
            "[29] highlighted that within-species tree seedling survivalincreased with higher height increment growth rates. However,\n",
            "although this ‘acquisitive ’growth strategy may promote tree\n",
            "survival within early stages of succession, rapid growth canoften come at the expense of more ‘conservative ’strategies\n",
            "(e.g. that can be critical for species survival in harsh dry\n",
            "conditions).\n",
            "In tropical dry forests, tree growth and survival are strongly\n",
            "limited by seasonal water availability [30], and species survival\n",
            "may be tightly linked to the successful development of deep,robust rooting systems [31]. However, while below-ground\n",
            "plant traits have been linked with plant vital rates (e.g. survival\n",
            "and growth) across terrestrial ecosystems, these traits are rarelyconsidered when evaluating plant performance, especially in\n",
            "the context of restoration [32]. If investment in fast above-\n",
            "ground growth (i.e. acquisitive strategy) comes at the expenseof plant investment in thicker absorptive fine roots and\n",
            "deeper supporting root systems (i.e. conservative strategy),\n",
            "then it may potentially limit seedling survival within tropicaldry forest. Yet, until now, no study has explored the relative\n",
            "importance of below-ground traits relative to above-ground\n",
            "traits, or the trade-offs between trait combinations, that maybe essential for improving species selection to promote\n",
            "tree species [64]. Additionally , the traits tightly coupled with\n",
            "seedling survival in below-ground PC1 (root diameter andRMF; figure 2) were only correlated with above-ground traits\n",
            "in one instance. Thus, our findings suggest that despite the dif-\n",
            "ficulty associated with quantifying below-ground traits,investing time into these efforts and improving our capacity\n",
            "to predict species-level trait values out of sample (e.g. [65])\n",
            "will most likely improve the design of tropical dry forest restor-ations. Moreover, large-scale forest biodiversity –ecosystem\n",
            "function experiments have demonstrated that maximizing func-\n",
            "tional diversity in planted forests promotes higher productivity[66] and increases resilience and ecosystem services [67]. Thus,\n",
            "ensuring that planted species mixes are highly diverse, in terms\n",
            "of both above- and below-ground functional attributes, is likelyto be important, and using planting mixes with high species\n",
            "richness is a strategy demonstrated to meet this goal [68].\n",
            "5. Conclusion\n",
            "By highlighting the traits that predict tree seedling survival,our analysis provides a path forward for the selection of\n",
            "species to promote survival in tropical dry forest restorationefforts. Selecting species with fast vertical growth rates has\n",
            "the potential to promote rapid seedling establishment when\n",
            "planted into degraded Vertisols, but this effect is only appar-ent in species that also invest in thicker fine roots, and more\n",
            "yet in many degraded landscapes, planting trees is a necessary step in the\n",
            "re-establishment of local biodiversity [7]. Within such environments, survivalrates can be particularly low in the early stages of tree development, and so\n",
            "species selection can be a key determinant of restoration outcomes [8,9]. Identify-\n",
            "ing mixtures of species that can establish and survive within harsh environmentalconditions is critical to ensure effective long-term outcomes of active forest land-\n",
            "scape restoration efforts. Moreover, increasing plant survival in restoration\n",
            "© 2022 The Author(s) Published by the Royal Society. All rights reserved.\n",
            " Downloaded from https://royalsocietypublishing.org/ on 11 July 2023\n"
          ]
        }
      ]
    }
  ]
}