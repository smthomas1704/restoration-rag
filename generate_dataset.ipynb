{
  "nbformat": 4,
  "nbformat_minor": 0,
  "metadata": {
    "colab": {
      "provenance": [],
      "authorship_tag": "ABX9TyP0r+mtFczXUK7RwOa0Mve5",
      "include_colab_link": true
    },
    "kernelspec": {
      "name": "python3",
      "display_name": "Python 3"
    },
    "language_info": {
      "name": "python"
    }
  },
  "cells": [
    {
      "cell_type": "markdown",
      "metadata": {
        "id": "view-in-github",
        "colab_type": "text"
      },
      "source": [
        "<a href=\"https://colab.research.google.com/github/smthomas1704/restoration-rag/blob/main/generate_dataset.ipynb\" target=\"_parent\"><img src=\"https://colab.research.google.com/assets/colab-badge.svg\" alt=\"Open In Colab\"/></a>"
      ]
    },
    {
      "cell_type": "markdown",
      "source": [
        "# Download\n",
        "Download the zipped literature file from this Google Drive location"
      ],
      "metadata": {
        "id": "-PnazWDSRIPN"
      }
    },
    {
      "cell_type": "code",
      "execution_count": 1,
      "metadata": {
        "colab": {
          "base_uri": "https://localhost:8080/"
        },
        "id": "i0MbHH-sKD9i",
        "outputId": "b2d5563a-a5ed-4632-c12d-51e699196acb"
      },
      "outputs": [
        {
          "output_type": "stream",
          "name": "stdout",
          "text": [
            "Downloading...\n",
            "From: https://drive.google.com/uc?id=10_inKhFuY5O8Sel88ZvlTqODsbbh4ula\n",
            "To: /content/functional_trait_literature_zipped.zip\n",
            "\r  0% 0.00/9.80M [00:00<?, ?B/s]\r 11% 1.05M/9.80M [00:00<00:00, 9.26MB/s]\r100% 9.80M/9.80M [00:00<00:00, 49.9MB/s]\n"
          ]
        }
      ],
      "source": [
        "!gdown https://drive.google.com/file/d/10_inKhFuY5O8Sel88ZvlTqODsbbh4ula/view?usp=drive_link -O /content/functional_trait_literature_zipped.zip --fuzzy"
      ]
    },
    {
      "cell_type": "code",
      "source": [
        "!unzip /content/functional_trait_literature_zipped.zip"
      ],
      "metadata": {
        "id": "6PJWUscXKlE3"
      },
      "execution_count": null,
      "outputs": []
    },
    {
      "cell_type": "markdown",
      "source": [
        "# Chunk and store\n",
        "\n",
        "In this portion, we'll chunk all the files into smaller paragraphs and use that for generating embeddings. We'll separately store the chunks so we can use it later, without having to re-download all the literature again.\n",
        "\n",
        "### References/Notes related to chunking\n",
        "1. https://openai.com/blog/new-and-improved-embedding-model\n",
        "2. text-embedding-ada-002 is the best model for text embedding generation\n",
        "3. https://www.pinecone.io/learn/chunking-strategies/\n",
        "4. https://python.langchain.com/docs/modules/data_connection/document_loaders/pdf#using-pypdf\n",
        "\n",
        "### Possible strategies for chunking\n",
        "1. LaTex: LaTeX is a document preparation system and markup language often used for academic papers and technical documents. By parsing the LaTeX commands and environments, you can create chunks that respect the logical organization of the content (e.g., sections, subsections, and equations), leading to more accurate and contextually relevant results.\n",
        "2. Latex taxes a string as input, so we will need to read\n",
        "3. Most of these academic papers are written in Latex and then converted to PDF. Our best bet would be to convert the PDF to Latex format first and then use the Latex based chunker to chunk things. This way paragraphs and related information will be together and contextualized.\n",
        "4. On the other hand its not a guarantee that the document was first written in LaTex."
      ],
      "metadata": {
        "id": "aahoQgRnKfZy"
      }
    },
    {
      "cell_type": "code",
      "source": [
        "!git clone https://github.com/smthomas1704/restoration-rag.git\n",
        "\n",
        "!pip install -r restoration-rag/requirements.txt\n",
        "!pip install huggingface_hub\n",
        "!pip install llama-cpp-python==0.1.78\n",
        "!pip install numpy==1.23.4\n"
      ],
      "metadata": {
        "id": "QR_nqRXjPFIA"
      },
      "execution_count": null,
      "outputs": []
    },
    {
      "cell_type": "code",
      "source": [
        "from langchain.embeddings import HuggingFaceEmbeddings\n",
        "from langchain.vectorstores import FAISS\n",
        "from langchain.document_loaders import PyPDFDirectoryLoader\n",
        "from langchain.text_splitter import RecursiveCharacterTextSplitter\n",
        "\n",
        "DATA_PATH = 'functional_trait_literature' #Your root data folder path\n",
        "DB_FAISS_PATH = 'vectorstore/db_faiss'\n",
        "\n",
        "# Copied from \"Using plant functional traits to guide restoration: A case study in California coastal grassland B. SANDEL,1,4, J. D. CORBIN,2 AND M. KRUPA3\"\n",
        "documents = \"\"\"\n",
        "Functional traits and trait-based community ecology theory can provide a basis for predicting the success of a restoration treatment in a particular community (Lavorel and Garnier 2002, Pywell et al. 2003, da Silveira Pontes et al. 2010, Roberts et al. 2010), helping to ensure that treatments are applied only where they will be most beneficial. Some research to date has used functional traits to predict species’ success in restoration treatments (Pywell et al. 2003, Rob- erts et al. 2010), with considerable success. For example, Pywell et al. (2003) have shown that seed germination rates and seedling growth rates are both positively associated with species success in sown restorations. These studies have suggested which species are most likely to successfully establish when creating restored communities and indicate, in a general sense, that the relative competitive and colonizing abilities of species may be predicted from their traits. However, little research has addressed how different restoration schemes, mediated by plant traits, can alter these relative abilities. For example, traits that might be advantageous under high-nutrient conditions, such as high seedling growth rates, may be disadvantageous under restored low-nutrient conditions. Such dependencies are predicted based on trait-envi- ronment relationships and can have potentially important consequences for restoration success, but have received little testing in a restoration context.\\n\\n\n",
        "Nitrogen enrichment of terrestrial habitats via atmospheric N deposition (Galloway et al. 1995, Fenn et al. 2003) and invasion of N-fixing plants (Daehler 1998) is a significant component of anthropogenic global change (Vitousek et al. 1997a). Elevated soil N can facilitate the invasion of non-native species and complicate efforts to restore native biodiversity (Maron and Connors 1996, Vitousek et al. 1997b, Perry et al. 2010). In this study, we focus on two strategies designed to restore habitats where species invasion is associ- ated with elevated N inputs (Perry et al. 2010): carbon (C) addition and the mowing and removal of above-ground biomass. Both of these\\n\n",
        "techniques have been applied in a variety of systems to control non-native species and to favor native biodiversity (Maron and Jefferies 2001, Van Dyke et al. 2004, Blumenthal 2009, Alpert 2010, Perry et al. 2010). Carbon addition is intended to stimulate bacterial growth, leading to immobilization of N in microbial biomass and a temporary decrease in plant-available N (Baer et al. 2003, Averett et al. 2004, Corbin and D’Anto- nio 2004). Mowing is meant to remove above- ground biomass, thereby reducing the competi- tive advantage of early-germinating or highly productive species, while removing mowed clippings exports N from the system (Zobel et al. 1996, Wilson and Clark 2001).\\n\\n\n",
        "Experimental tests of these methods have produced mixed results. While both treatments have been shown to decrease the exotic-to-native ratio in some ecosystems, in others native species have experienced no benefit or those benefits have been limited to a few species (e.g., Maron and Jefferies 2001, Cione et al. 2002, Van Dyke et al. 2004, Blumenthal 2009). A likely explanation for this is that the simple classification of species into ‘‘native’’ and ‘‘exotic’’ categories may pro- vide relatively little functional information. Di- rect measurement and description of plant strategies may enable better predictions for species responses to these, and other, restoration treatments (Pywell et al. 2003, Eschen et al. 2006).\\n\\n\n",
        "One useful system for describing plant strate- gies is based on three major axes quantifying leaf, growth, and reproductive strategies (Westoby 1998). Plant species are arrayed along the leaf axis according to the speed at which they obtain returns on leaf investments (Chapin 1980, Reich et al. 1997, Westoby et al. 2002, Wright et al. 2004). Species with fast returns exhibit relatively rapid turnover of leaf biomass and tend to produce thin, low density leaves with high specific leaf area (SLA) (Wright and Westoby 2000, Westoby et al. 2002, Wright et al. 2004). The growth axis describes the structural characteris- tics of a plant, of which height is a key indicator. Tall species invest in structural biomass that improves their access to light, while short species can allocate a larger portion of their biomass towards photosynthetically active tissue, which is advantageous when light is readily available (Falster and Westoby 2003). The reproductive strategy axis can be related to seed mass, as larger-seeded species typically have a higher probability of germinating and can outcompete smaller-seeded species. However, plants that produce large seeds typically produce smaller numbers of seeds, limiting their ability to colonize available microsites (e.g., Turnbull et al. 1999, Henery and Westoby 2001).\\n\\n\n",
        "\"\"\"\n",
        "\n",
        "text_splitter = RecursiveCharacterTextSplitter(chunk_size=1500, chunk_overlap=200)\n",
        "splits = text_splitter.split_text(documents)\n",
        "\n",
        "print(len(splits))\n",
        "print(splits[0])\n",
        "print(splits[1])\n",
        "\n",
        "\n",
        "# from langchain.text_splitter import LatexTextSplitter\n",
        "# latex_text = \"...\"\n",
        "# latex_splitter = LatexTextSplitter(chunk_size=100, chunk_overlap=0)\n",
        "# docs = latex_splitter.create_documents([latex_text])"
      ],
      "metadata": {
        "id": "K5AJyyJUQo_1",
        "colab": {
          "base_uri": "https://localhost:8080/"
        },
        "outputId": "eb6f485d-2b35-40ca-9b9f-f3100b1f91a2"
      },
      "execution_count": 8,
      "outputs": [
        {
          "output_type": "stream",
          "name": "stdout",
          "text": [
            "4\n",
            "Functional traits and trait-based community ecology theory can provide a basis for predicting the success of a restoration treatment in a particular community (Lavorel and Garnier 2002, Pywell et al. 2003, da Silveira Pontes et al. 2010, Roberts et al. 2010), helping to ensure that treatments are applied only where they will be most beneficial. Some research to date has used functional traits to predict species’ success in restoration treatments (Pywell et al. 2003, Rob- erts et al. 2010), with considerable success. For example, Pywell et al. (2003) have shown that seed germination rates and seedling growth rates are both positively associated with species success in sown restorations. These studies have suggested which species are most likely to successfully establish when creating restored communities and indicate, in a general sense, that the relative competitive and colonizing abilities of species may be predicted from their traits. However, little research has addressed how different restoration schemes, mediated by plant traits, can alter these relative abilities. For example, traits that might be advantageous under high-nutrient conditions, such as high seedling growth rates, may be disadvantageous under restored low-nutrient conditions. Such dependencies are predicted based on trait-envi- ronment relationships and can have potentially important consequences for restoration success, but have received little testing in a restoration context.\n",
            "Nitrogen enrichment of terrestrial habitats via atmospheric N deposition (Galloway et al. 1995, Fenn et al. 2003) and invasion of N-fixing plants (Daehler 1998) is a significant component of anthropogenic global change (Vitousek et al. 1997a). Elevated soil N can facilitate the invasion of non-native species and complicate efforts to restore native biodiversity (Maron and Connors 1996, Vitousek et al. 1997b, Perry et al. 2010). In this study, we focus on two strategies designed to restore habitats where species invasion is associ- ated with elevated N inputs (Perry et al. 2010): carbon (C) addition and the mowing and removal of above-ground biomass. Both of these\n",
            "\n",
            "techniques have been applied in a variety of systems to control non-native species and to favor native biodiversity (Maron and Jefferies 2001, Van Dyke et al. 2004, Blumenthal 2009, Alpert 2010, Perry et al. 2010). Carbon addition is intended to stimulate bacterial growth, leading to immobilization of N in microbial biomass and a temporary decrease in plant-available N (Baer et al. 2003, Averett et al. 2004, Corbin and D’Anto- nio 2004). Mowing is meant to remove above- ground biomass, thereby reducing the competi- tive advantage of early-germinating or highly productive species, while removing mowed clippings exports N from the system (Zobel et al. 1996, Wilson and Clark 2001).\n"
          ]
        }
      ]
    },
    {
      "cell_type": "code",
      "source": [],
      "metadata": {
        "id": "s2LvMgQOPF4v"
      },
      "execution_count": null,
      "outputs": []
    }
  ]
}