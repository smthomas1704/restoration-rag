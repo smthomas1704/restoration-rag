{
  "nbformat": 4,
  "nbformat_minor": 0,
  "metadata": {
    "colab": {
      "provenance": [],
      "gpuType": "A100",
      "authorship_tag": "ABX9TyP0sot0kdBYxT2zCnVljFwX",
      "include_colab_link": true
    },
    "kernelspec": {
      "name": "python3",
      "display_name": "Python 3"
    },
    "language_info": {
      "name": "python"
    },
    "accelerator": "GPU"
  },
  "cells": [
    {
      "cell_type": "markdown",
      "metadata": {
        "id": "view-in-github",
        "colab_type": "text"
      },
      "source": [
        "<a href=\"https://colab.research.google.com/github/smthomas1704/restoration-rag/blob/main/functional_trait_rag_with_jina_v1.ipynb\" target=\"_parent\"><img src=\"https://colab.research.google.com/assets/colab-badge.svg\" alt=\"Open In Colab\"/></a>"
      ]
    },
    {
      "cell_type": "markdown",
      "source": [
        "# Download\n",
        "Download the zipped literature file from this Google Drive location"
      ],
      "metadata": {
        "id": "-PnazWDSRIPN"
      }
    },
    {
      "cell_type": "code",
      "execution_count": null,
      "metadata": {
        "id": "i0MbHH-sKD9i"
      },
      "outputs": [],
      "source": [
        "!pip install gdown==v4.6.3\n",
        "!gdown https://drive.google.com/file/d/10_inKhFuY5O8Sel88ZvlTqODsbbh4ula/view?usp=drive_link -O /content/functional_trait_literature_zipped.zip --fuzzy"
      ]
    },
    {
      "cell_type": "code",
      "source": [
        "!unzip /content/functional_trait_literature_zipped.zip"
      ],
      "metadata": {
        "id": "6PJWUscXKlE3"
      },
      "execution_count": null,
      "outputs": []
    },
    {
      "cell_type": "markdown",
      "source": [
        "# Chunk and store\n",
        "\n",
        "In this portion, we'll chunk all the files into smaller paragraphs and use that for generating embeddings. We'll separately store the chunks so we can use it later, without having to re-download all the literature again.\n",
        "\n",
        "### References/Notes related to chunking\n",
        "1. https://openai.com/blog/new-and-improved-embedding-model\n",
        "2. text-embedding-ada-002 is the best model for text embedding generation\n",
        "3. https://www.pinecone.io/learn/chunking-strategies/\n",
        "4. https://python.langchain.com/docs/modules/data_connection/document_loaders/pdf#using-pypdf\n",
        "\n",
        "### Possible strategies for chunking\n",
        "1. LaTex: LaTeX is a document preparation system and markup language often used for academic papers and technical documents. By parsing the LaTeX commands and environments, you can create chunks that respect the logical organization of the content (e.g., sections, subsections, and equations), leading to more accurate and contextually relevant results.\n",
        "2. Latex taxes a string as input, so we will need to read\n",
        "3. Most of these academic papers are written in Latex and then converted to PDF. Our best bet would be to convert the PDF to Latex format first and then use the Latex based chunker to chunk things. This way paragraphs and related information will be together and contextualized.\n",
        "4. On the other hand its not a guarantee that the document was first written in LaTex."
      ],
      "metadata": {
        "id": "aahoQgRnKfZy"
      }
    },
    {
      "cell_type": "code",
      "source": [
        "!git clone https://github.com/smthomas1704/restoration-rag.git\n",
        "\n",
        "!pip install -r restoration-rag/requirements.txt\n",
        "!pip install huggingface_hub\n",
        "!pip install llama-cpp-python==0.1.78\n",
        "!pip install numpy==1.23.4\n"
      ],
      "metadata": {
        "colab": {
          "base_uri": "https://localhost:8080/",
          "height": 349
        },
        "id": "QR_nqRXjPFIA",
        "outputId": "8e0c01e7-2577-4d08-f082-034c4a6b442e"
      },
      "execution_count": 5,
      "outputs": [
        {
          "output_type": "stream",
          "name": "stdout",
          "text": [
            "Collecting numpy==1.23.4\n",
            "  Downloading numpy-1.23.4-cp310-cp310-manylinux_2_17_x86_64.manylinux2014_x86_64.whl (17.1 MB)\n",
            "\u001b[2K     \u001b[90m━━━━━━━━━━━━━━━━━━━━━━━━━━━━━━━━━━━━━━━━\u001b[0m \u001b[32m17.1/17.1 MB\u001b[0m \u001b[31m81.5 MB/s\u001b[0m eta \u001b[36m0:00:00\u001b[0m\n",
            "\u001b[?25hInstalling collected packages: numpy\n",
            "  Attempting uninstall: numpy\n",
            "    Found existing installation: numpy 1.23.5\n",
            "    Uninstalling numpy-1.23.5:\n",
            "      Successfully uninstalled numpy-1.23.5\n",
            "\u001b[31mERROR: pip's dependency resolver does not currently take into account all the packages that are installed. This behaviour is the source of the following dependency conflicts.\n",
            "tensorflow 2.15.0 requires numpy<2.0.0,>=1.23.5, but you have numpy 1.23.4 which is incompatible.\n",
            "tensorflow-probability 0.22.0 requires typing-extensions<4.6.0, but you have typing-extensions 4.9.0 which is incompatible.\u001b[0m\u001b[31m\n",
            "\u001b[0mSuccessfully installed numpy-1.23.4\n"
          ]
        },
        {
          "output_type": "display_data",
          "data": {
            "application/vnd.colab-display-data+json": {
              "pip_warning": {
                "packages": [
                  "numpy"
                ]
              }
            }
          },
          "metadata": {}
        }
      ]
    },
    {
      "cell_type": "code",
      "source": [
        "from langchain.embeddings import HuggingFaceEmbeddings\n",
        "from langchain.vectorstores import FAISS\n",
        "from langchain.document_loaders import PyPDFDirectoryLoader\n",
        "from langchain.text_splitter import RecursiveCharacterTextSplitter\n",
        "\n",
        "DATA_PATH = 'functional_trait_literature' #Your root data folder path\n",
        "\n",
        "# Copied from \"Using plant functional traits to guide restoration: A case study in California coastal grassland B. SANDEL,1,4, J. D. CORBIN,2 AND M. KRUPA3\"\n",
        "documents = \"\"\"\n",
        "Functional traits and trait-based community ecology theory can provide a basis for predicting the success of a restoration treatment in a particular community (Lavorel and Garnier 2002, Pywell et al. 2003, da Silveira Pontes et al. 2010, Roberts et al. 2010), helping to ensure that treatments are applied only where they will be most beneficial. Some research to date has used functional traits to predict species’ success in restoration treatments (Pywell et al. 2003, Rob- erts et al. 2010), with considerable success. For example, Pywell et al. (2003) have shown that seed germination rates and seedling growth rates are both positively associated with species success in sown restorations. These studies have suggested which species are most likely to successfully establish when creating restored communities and indicate, in a general sense, that the relative competitive and colonizing abilities of species may be predicted from their traits. However, little research has addressed how different restoration schemes, mediated by plant traits, can alter these relative abilities. For example, traits that might be advantageous under high-nutrient conditions, such as high seedling growth rates, may be disadvantageous under restored low-nutrient conditions. Such dependencies are predicted based on trait-envi- ronment relationships and can have potentially important consequences for restoration success, but have received little testing in a restoration context.\\n\\n\n",
        "Nitrogen enrichment of terrestrial habitats via atmospheric N deposition (Galloway et al. 1995, Fenn et al. 2003) and invasion of N-fixing plants (Daehler 1998) is a significant component of anthropogenic global change (Vitousek et al. 1997a). Elevated soil N can facilitate the invasion of non-native species and complicate efforts to restore native biodiversity (Maron and Connors 1996, Vitousek et al. 1997b, Perry et al. 2010). In this study, we focus on two strategies designed to restore habitats where species invasion is associ- ated with elevated N inputs (Perry et al. 2010): carbon (C) addition and the mowing and removal of above-ground biomass. Both of these\\n\n",
        "techniques have been applied in a variety of systems to control non-native species and to favor native biodiversity (Maron and Jefferies 2001, Van Dyke et al. 2004, Blumenthal 2009, Alpert 2010, Perry et al. 2010). Carbon addition is intended to stimulate bacterial growth, leading to immobilization of N in microbial biomass and a temporary decrease in plant-available N (Baer et al. 2003, Averett et al. 2004, Corbin and D’Anto- nio 2004). Mowing is meant to remove above- ground biomass, thereby reducing the competi- tive advantage of early-germinating or highly productive species, while removing mowed clippings exports N from the system (Zobel et al. 1996, Wilson and Clark 2001).\\n\\n\n",
        "Experimental tests of these methods have produced mixed results. While both treatments have been shown to decrease the exotic-to-native ratio in some ecosystems, in others native species have experienced no benefit or those benefits have been limited to a few species (e.g., Maron and Jefferies 2001, Cione et al. 2002, Van Dyke et al. 2004, Blumenthal 2009). A likely explanation for this is that the simple classification of species into ‘‘native’’ and ‘‘exotic’’ categories may pro- vide relatively little functional information. Di- rect measurement and description of plant strategies may enable better predictions for species responses to these, and other, restoration treatments (Pywell et al. 2003, Eschen et al. 2006).\\n\\n\n",
        "One useful system for describing plant strate- gies is based on three major axes quantifying leaf, growth, and reproductive strategies (Westoby 1998). Plant species are arrayed along the leaf axis according to the speed at which they obtain returns on leaf investments (Chapin 1980, Reich et al. 1997, Westoby et al. 2002, Wright et al. 2004). Species with fast returns exhibit relatively rapid turnover of leaf biomass and tend to produce thin, low density leaves with high specific leaf area (SLA) (Wright and Westoby 2000, Westoby et al. 2002, Wright et al. 2004). The growth axis describes the structural characteris- tics of a plant, of which height is a key indicator. Tall species invest in structural biomass that improves their access to light, while short species can allocate a larger portion of their biomass towards photosynthetically active tissue, which is advantageous when light is readily available (Falster and Westoby 2003). The reproductive strategy axis can be related to seed mass, as larger-seeded species typically have a higher probability of germinating and can outcompete smaller-seeded species. However, plants that produce large seeds typically produce smaller numbers of seeds, limiting their ability to colonize available microsites (e.g., Turnbull et al. 1999, Henery and Westoby 2001).\\n\\n\n",
        "\"\"\"\n",
        "\n",
        "# For testing only\n",
        "text_splitter = RecursiveCharacterTextSplitter(chunk_size=3500, chunk_overlap=500)\n",
        "test_splits = text_splitter.split_text(documents)\n",
        "\n",
        "print(len(test_splits))\n",
        "print(test_splits[0])\n",
        "print(test_splits[1])\n",
        "\n",
        "\n",
        "# Split the files\n",
        "loader = PyPDFDirectoryLoader(DATA_PATH)\n",
        "documents = loader.load()\n",
        "text_splitter = RecursiveCharacterTextSplitter(chunk_size=3500, chunk_overlap=200)\n",
        "prod_splits = text_splitter.split_documents(documents)\n",
        "\n",
        "print(len(prod_splits))\n",
        "print(documents[0])"
      ],
      "metadata": {
        "id": "K5AJyyJUQo_1",
        "colab": {
          "base_uri": "https://localhost:8080/"
        },
        "outputId": "3c9e6826-b574-4932-b92c-782c03f18a30"
      },
      "execution_count": 1,
      "outputs": [
        {
          "output_type": "stream",
          "name": "stdout",
          "text": [
            "2\n",
            "Functional traits and trait-based community ecology theory can provide a basis for predicting the success of a restoration treatment in a particular community (Lavorel and Garnier 2002, Pywell et al. 2003, da Silveira Pontes et al. 2010, Roberts et al. 2010), helping to ensure that treatments are applied only where they will be most beneficial. Some research to date has used functional traits to predict species’ success in restoration treatments (Pywell et al. 2003, Rob- erts et al. 2010), with considerable success. For example, Pywell et al. (2003) have shown that seed germination rates and seedling growth rates are both positively associated with species success in sown restorations. These studies have suggested which species are most likely to successfully establish when creating restored communities and indicate, in a general sense, that the relative competitive and colonizing abilities of species may be predicted from their traits. However, little research has addressed how different restoration schemes, mediated by plant traits, can alter these relative abilities. For example, traits that might be advantageous under high-nutrient conditions, such as high seedling growth rates, may be disadvantageous under restored low-nutrient conditions. Such dependencies are predicted based on trait-envi- ronment relationships and can have potentially important consequences for restoration success, but have received little testing in a restoration context.\n",
            "\n",
            "\n",
            "Nitrogen enrichment of terrestrial habitats via atmospheric N deposition (Galloway et al. 1995, Fenn et al. 2003) and invasion of N-fixing plants (Daehler 1998) is a significant component of anthropogenic global change (Vitousek et al. 1997a). Elevated soil N can facilitate the invasion of non-native species and complicate efforts to restore native biodiversity (Maron and Connors 1996, Vitousek et al. 1997b, Perry et al. 2010). In this study, we focus on two strategies designed to restore habitats where species invasion is associ- ated with elevated N inputs (Perry et al. 2010): carbon (C) addition and the mowing and removal of above-ground biomass. Both of these\n",
            "\n",
            "techniques have been applied in a variety of systems to control non-native species and to favor native biodiversity (Maron and Jefferies 2001, Van Dyke et al. 2004, Blumenthal 2009, Alpert 2010, Perry et al. 2010). Carbon addition is intended to stimulate bacterial growth, leading to immobilization of N in microbial biomass and a temporary decrease in plant-available N (Baer et al. 2003, Averett et al. 2004, Corbin and D’Anto- nio 2004). Mowing is meant to remove above- ground biomass, thereby reducing the competi- tive advantage of early-germinating or highly productive species, while removing mowed clippings exports N from the system (Zobel et al. 1996, Wilson and Clark 2001).\n",
            "Experimental tests of these methods have produced mixed results. While both treatments have been shown to decrease the exotic-to-native ratio in some ecosystems, in others native species have experienced no benefit or those benefits have been limited to a few species (e.g., Maron and Jefferies 2001, Cione et al. 2002, Van Dyke et al. 2004, Blumenthal 2009). A likely explanation for this is that the simple classification of species into ‘‘native’’ and ‘‘exotic’’ categories may pro- vide relatively little functional information. Di- rect measurement and description of plant strategies may enable better predictions for species responses to these, and other, restoration treatments (Pywell et al. 2003, Eschen et al. 2006).\n",
            "\n",
            "\n",
            "One useful system for describing plant strate- gies is based on three major axes quantifying leaf, growth, and reproductive strategies (Westoby 1998). Plant species are arrayed along the leaf axis according to the speed at which they obtain returns on leaf investments (Chapin 1980, Reich et al. 1997, Westoby et al. 2002, Wright et al. 2004). Species with fast returns exhibit relatively rapid turnover of leaf biomass and tend to produce thin, low density leaves with high specific leaf area (SLA) (Wright and Westoby 2000, Westoby et al. 2002, Wright et al. 2004). The growth axis describes the structural characteris- tics of a plant, of which height is a key indicator. Tall species invest in structural biomass that improves their access to light, while short species can allocate a larger portion of their biomass towards photosynthetically active tissue, which is advantageous when light is readily available (Falster and Westoby 2003). The reproductive strategy axis can be related to seed mass, as larger-seeded species typically have a higher probability of germinating and can outcompete smaller-seeded species. However, plants that produce large seeds typically produce smaller numbers of seeds, limiting their ability to colonize available microsites (e.g., Turnbull et al. 1999, Henery and Westoby 2001).\n",
            "303\n",
            "page_content='J Appl Ecol. 2017;1–10.\\t wileyonlinelibrary.com/journal/jpe\\t \\t\\u2003|\\u2003\\t1\\n© 2017 The Authors. Journal of Applied Ecology  \\n© 2017 British Ecological Society Received:\\t4\\tApril\\t2017\\u2003 |\\u2003Accepted:\\t18\\t August\\t2017\\nDOI:\\t10.1111/1365-2664.12998\\nRESEARCH ARTICLE\\nUsing soil amendments and plant functional traits to select \\nnative tropical dry forest species for the restoration of degraded Vertisols\\nLeland K. Werden1\\u2003|\\u2003Pedro Alvarado J.2\\u2003|\\u2003Sebastian Zarges3\\u2003|\\u2003Erick Calderón M.4\\u2003|\\u2003 \\nErik M. Schilling4\\u2003|\\u2003Milena Gutiérrez L.2\\u2003|\\u2003Jennifer S. Powers1,4\\n1Department\\tof \\tPlant\\tand\\tMicrobial\\t\\nBiology,\\tUniversity \\tof\\tMinnesota,\\tSt.\\tPaul,\\t\\nMN,\\tUSA\\n2Estación\\tExperimental\\tForestal\\tHorizontes\\t\\n–\\tÁrea\\tde\\tConservación\\tGuanacaste,\\tLiberia,\\t\\nCosta\\tRica\\n3University\\tfor\\tSustainable\\tDevelopment,\\t\\nEberswalde,\\tGermany\\n4Department\\tof \\tEcology,\\tEvolution\\tand\\t\\nBehavior,\\tUniversity \\tof\\tMinnesota,\\tSt.\\tPaul,\\t\\nMN,\\tUSA\\nCorrespondence\\nLeland\\tK.\\tWerden\\nEmail: lwerden@umn.edu\\nFunding information\\nNSF,\\tGrant/Award\\tNumber:\\tGRFP \\t11-582\\t\\nand\\tCAREER\\tDEB-1053237;\\tGCA \\tRestoration\\t\\nFellowship;\\tUMN\\tCarolyn\\tCrosby \\tand\\tDayton\\t\\ngrants\\nHandling\\tEditor:\\tMartin\\tNuñezAbstract\\n1.\\tTropical\\tdry\\tforests\\t(TDFs)\\tare\\tcritically\\tendangered,\\tand\\ttheir\\trestoration\\tis\\tunder-\\nstudied.\\tLarge-scale\\tpassive\\trestoration\\tefforts\\tin\\tnorth-west\\t(NW)\\tCosta\\tRica\\thave\\t\\ncatalysed\\tTDF\\tregeneration\\tbut\\tare\\tnot\\teffective\\ton\\tdegraded\\tVertisols,\\twhere\\tac-\\ntive\\trestoration\\tis\\tnecessary\\tdue\\tto\\thigh\\tcontent\\tof\\tshrink–swell\\tclays\\tthat\\timpede\\t\\nregeneration\\tfollowing\\tdegradation.\\n2.\\tWe\\testablished\\ta\\tlarge-scale\\trestoration\\texperiment\\tin\\tdegraded\\tformer\\tpastures\\tin\\t\\nNW\\tCosta\\tRica\\tto\\tdetermine\\t(1)\\tthe\\trestoration\\tpotential\\tof\\tnative\\tTDF\\ttree\\tspe-\\ncies\\ton\\tVertisols,\\t(2)\\tif\\tplant\\tfunctional\\ttraits\\telucidate\\tmechanisms\\tbehind\\tinterspe-\\ncific\\tvariability\\tin\\tspecies\\tperformance\\tand\\t(3)\\tif\\taffordable\\tand\\treadily\\tavailable\\tsoil\\t\\namendments\\tincrease\\tseedling\\tsurvivorship\\tand\\tgrowth.\\tWe\\tplanted\\t1,710\\tseed-\\nlings\\tof\\t32\\tnative\\tspecies\\tcoupled\\twith\\tfive\\tamendments\\t aimed\\tat\\tameliorating\\t\\nroot-zone\\tmicroclimatic\\t conditions:\\tsand,\\trice\\thulls,\\trice\\thull\\tash,\\thydrogel\\tand\\tuna-\\nmended\\tcontrols.\\tFor\\teach\\tspecies,\\twe\\tquantified\\ta\\tsuite\\tof\\tresource-acquisition\\t\\nand\\tecophysiological\\t functional\\ttraits,\\tand\\tmonitored\\tsurvival\\tand\\tgrowth\\tseason-\\nally\\tover\\t2\\tyears.\\n3.\\tInterspecific\\t survivorship\\tafter\\t2\\tyears\\tranged\\twidely\\t(0%–92.5%).\\tFunctional\\ttraits\\t\\nincluding\\twood\\tdensity,\\tphotosynthetic\\t parameters\\tand\\tupregulation\\tof\\tintegrated\\t\\nwater-use\\tefficiency,\\texplained\\tinterspecific\\tvariation\\tin\\tsurvivorship\\tand\\tgrowth\\tat\\t\\ndistinct\\tontogenetic\\tstages.\\tEasily\\tmeasured\\tleaf\\ttraits,\\thowever,\\twere\\tnot\\tgood\\t\\npredictors\\tof\\trestoration\\tpotential.\\n4.\\tHydrogel\\tand\\tsand\\tamendments\\tincreased\\tinitial\\tseedling\\tsurvival,\\tbut\\tafter\\t2\\tyears\\t\\nno\\tdifferences\\tamong\\ttreatments\\twere\\tfound.\\n5. Synthesis and applications. \\tWe\\thave\\tshown\\tit\\tis\\tpossible,\\talbeit\\tchallenging,\\tto\\t\\n\\trestore\\ttropical\\tdry\\tforest\\t(TDF)\\ton\\tdegraded\\tVertisols.\\tOur\\tresults\\tsupport\\tthe\\tuse\\t\\nof\\tfunctional\\ttrait-based\\tscreenings\\tto\\tselect\\ttree\\tspecies\\tfor\\trestoration\\tprojects\\tas\\t\\ntree\\tspecies\\twith\\thigh\\tsurvivorship\\tand\\tgrowth\\tin\\tthis\\tstressful\\tenvironment\\thave\\t\\noverlapping\\tecophysiological\\t functional\\ttraits.\\tFurthermore,\\t practitioners\\tshould\\t\\nconsider\\twater-use\\tand\\tphytosynthetic\\t traits\\twhen\\tdesigning\\tinitial\\t\\tspecies\\tmixes\\t\\nfor\\tTDF\\trestorations.' metadata={'source': 'functional_trait_literature/Werden et al. - 2018 - Using soil amendments and plant functional traits .pdf', 'page': 0}\n"
          ]
        }
      ]
    },
    {
      "cell_type": "markdown",
      "source": [
        "## Now we will generate embeddings using different models for comparison\n",
        "First one is jina-embedding-l-en-v1"
      ],
      "metadata": {
        "id": "hKPYs7QuoLHs"
      }
    },
    {
      "cell_type": "code",
      "source": [
        "!mkdir \"/content/vectorstore\"\n",
        "DB_JINA_EMBEDDING_PATH = 'vectorstore/db_jina-embedding-l-en-v1'\n",
        "\n",
        "embeddings = HuggingFaceEmbeddings(model_name='jinaai/jina-embedding-b-en-v1',\n",
        "                                       model_kwargs={'device': 'cuda'})\n",
        "\n",
        "db = FAISS.from_documents(prod_splits, embeddings)\n",
        "serialized_bytes = db.serialize_to_bytes()\n",
        "with open(\"/content/vectorstore/serialized_db.txt\", \"wb\") as binary_file:\n",
        "    # Write bytes to file\n",
        "    binary_file.write(serialized_bytes)\n",
        "\n",
        "db.save_local(DB_JINA_EMBEDDING_PATH)"
      ],
      "metadata": {
        "id": "s2LvMgQOPF4v"
      },
      "execution_count": 4,
      "outputs": []
    },
    {
      "cell_type": "code",
      "source": [
        "docs = await db.asimilarity_search(\"I am designing a tropical dry forest restoration in an open field with no remaining tree cover. Should I plant species with higher or lower wood density to maximum initial survival?\")\n",
        "print(len(docs))\n",
        "print(docs[0].page_content)\n",
        "print(docs[1].page_content)\n",
        "print(docs[2].page_content)\n",
        "print(docs[3].page_content)"
      ],
      "metadata": {
        "id": "q-hu1Nn3obvO"
      },
      "execution_count": null,
      "outputs": []
    },
    {
      "cell_type": "code",
      "source": [
        "!pip install openai\n",
        "!pip install langchain_experimental"
      ],
      "metadata": {
        "id": "99LU-dVyw_9z",
        "outputId": "2c77e6a2-30b5-43d4-c6b3-59469cb69b26",
        "colab": {
          "base_uri": "https://localhost:8080/"
        }
      },
      "execution_count": 6,
      "outputs": [
        {
          "output_type": "stream",
          "name": "stdout",
          "text": [
            "Installing collected packages: langchain_experimental\n",
            "Successfully installed langchain_experimental-0.0.49\n"
          ]
        }
      ]
    },
    {
      "cell_type": "code",
      "source": [
        "from google.colab import userdata\n",
        "from openai import OpenAI\n",
        "from langchain.chains import RetrievalQA\n",
        "from langchain.chat_models import ChatOpenAI\n",
        "from langchain.document_loaders import TextLoader\n",
        "from langchain.vectorstores import DocArrayInMemorySearch\n",
        "from IPython.display import display, Markdown\n",
        "from langchain.text_splitter import CharacterTextSplitter\n",
        "from langchain.embeddings import OpenAIEmbeddings, HuggingFaceInstructEmbeddings\n",
        "from langchain.vectorstores import FAISS\n",
        "from langchain.memory import ConversationBufferMemory\n",
        "from langchain.chains import ConversationalRetrievalChain\n",
        "from langchain.indexes import VectorstoreIndexCreator\n",
        "from langchain_experimental.agents.agent_toolkits.csv.base import create_csv_agent\n",
        "from langchain.agents.agent_types import AgentType\n",
        "from langchain.memory import ConversationBufferMemory\n",
        "import tiktoken\n",
        "import os\n",
        "\n",
        "OPENAI_API_KEY = userdata.get('COLABORATIVE_EARTH_KEY')\n",
        "llm_model = \"gpt-3.5-turbo\"\n",
        "\n",
        "os.environ[\"OPENAI_API_KEY\"] = OPENAI_API_KEY"
      ],
      "metadata": {
        "id": "3K8kg2VYy3DG"
      },
      "execution_count": 7,
      "outputs": []
    },
    {
      "cell_type": "code",
      "source": [
        "llm = ChatOpenAI(temperature=0.7, model_name=\"gpt-3.5-turbo\")\n",
        "\n",
        "memory = ConversationBufferMemory(\n",
        "memory_key='chat_history', return_messages=True)\n",
        "retriever = db.as_retriever(\n",
        "    search_kwargs={\"k\": 6}\n",
        ")\n",
        "conversation_chain = ConversationalRetrievalChain.from_llm(\n",
        "        llm=llm,\n",
        "        # chain_type=\"stuff\" will go through everything.\n",
        "        chain_type=\"refine\",\n",
        "        retriever=retriever,\n",
        "        memory=memory\n",
        ")"
      ],
      "metadata": {
        "id": "x0alVY-OyveW"
      },
      "execution_count": 12,
      "outputs": []
    },
    {
      "cell_type": "markdown",
      "source": [
        "###TODO\n",
        "1. Add a cross encoder after the retrieval stage to re-rank the results before feeding it to the API.\n",
        "2. Alternately, or maybe along with this, we may also want to combine several chunks to send as context, depending on the context lenght.\n",
        "3. Or perhaps we also chunk in small portions and combine results to send to OpenAI. This way answers can be formed based on chunks from different papers and different sections.\n",
        "\n",
        "https://towardsdatascience.com/4-ways-of-question-answering-in-langchain-188c6707cc5a"
      ],
      "metadata": {
        "id": "OLk6TAvQyMip"
      }
    },
    {
      "cell_type": "code",
      "source": [
        "query = \"How can plant functional traits be useful when designing a restoration project?\"\n",
        "result = conversation_chain({\"question\": query})\n",
        "answer = result[\"answer\"]\n",
        "answer"
      ],
      "metadata": {
        "colab": {
          "base_uri": "https://localhost:8080/",
          "height": 341
        },
        "id": "J46fLZZH08dj",
        "outputId": "2111f9d8-662e-4c25-f132-a03918925f71"
      },
      "execution_count": 13,
      "outputs": [
        {
          "output_type": "stream",
          "name": "stderr",
          "text": [
            "/usr/local/lib/python3.10/dist-packages/langchain_core/_api/deprecation.py:117: LangChainDeprecationWarning: The function `__call__` was deprecated in LangChain 0.1.0 and will be removed in 0.2.0. Use invoke instead.\n",
            "  warn_deprecated(\n"
          ]
        },
        {
          "output_type": "execute_result",
          "data": {
            "text/plain": [
              "'Incorporating the new context, the original answer can be refined to highlight the importance of plant functional traits in species selection for restoration projects and the role of the Restoring Ecosystem Services Tool (REST) in guiding these choices.\\n\\nRefined answer:\\n\\nPlant functional traits play a crucial role in designing restoration projects as they can be linked to ecosystem properties and used to achieve specific objectives in ecosystem functioning. By understanding how functional traits differ among species and environments, restoration practitioners can select species with traits that align with their restoration goals.\\n\\nThe Restoring Ecosystem Services Tool (REST) program is a valuable resource that allows users to design simulated communities and assess which combinations of species may be best for specific restoration goals. REST incorporates data on functional traits and provides users with the flexibility to enter their own species lists and trait data. This tool enables restoration practitioners to consider limiting factors such as economics, logistics, climate, and disturbance regimes when selecting species for restoration objectives.\\n\\nWhen using REST or making trait-based species selections, it is important to consider the specific restoration goals. For example, if the aim is to build an ecosystem that is tolerant of fires, traits such as bark thickness and leaf water content may be of interest. The literature suggests six key traits that are helpful in understanding the life histories of various species: foliar nitrogen, seed mass, specific leaf area, wood density, leaf lifespan, and maximum plant height. These traits can serve as a foundation for considering which traits may be linked to specific restoration needs.\\n\\nOverall, the integration of plant functional traits in species selection for restoration projects, along with the use of tools like REST, allows for a more informed and targeted approach. By selecting species with desirable functional traits, restoration practitioners can enhance the likelihood of achieving desired ecosystem outcomes and promote the development of diverse and resilient communities.'"
            ],
            "application/vnd.google.colaboratory.intrinsic+json": {
              "type": "string"
            }
          },
          "metadata": {},
          "execution_count": 13
        }
      ]
    }
  ]
}