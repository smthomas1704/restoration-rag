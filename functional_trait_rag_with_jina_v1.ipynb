{
  "nbformat": 4,
  "nbformat_minor": 0,
  "metadata": {
    "colab": {
      "provenance": [],
      "gpuType": "V100",
      "authorship_tag": "ABX9TyN+5u9bpdlIbRtjvunrnGKC",
      "include_colab_link": true
    },
    "kernelspec": {
      "name": "python3",
      "display_name": "Python 3"
    },
    "language_info": {
      "name": "python"
    },
    "accelerator": "GPU"
  },
  "cells": [
    {
      "cell_type": "markdown",
      "metadata": {
        "id": "view-in-github",
        "colab_type": "text"
      },
      "source": [
        "<a href=\"https://colab.research.google.com/github/smthomas1704/restoration-rag/blob/main/functional_trait_rag_with_jina_v1.ipynb\" target=\"_parent\"><img src=\"https://colab.research.google.com/assets/colab-badge.svg\" alt=\"Open In Colab\"/></a>"
      ]
    },
    {
      "cell_type": "markdown",
      "source": [
        "# Download\n",
        "Download the zipped literature file from this Google Drive location"
      ],
      "metadata": {
        "id": "-PnazWDSRIPN"
      }
    },
    {
      "cell_type": "code",
      "execution_count": 3,
      "metadata": {
        "id": "i0MbHH-sKD9i"
      },
      "outputs": [],
      "source": [
        "!git clone https://github.com/smthomas1704/restoration-rag.git\n",
        "\n",
        "!pip install -r restoration-rag/requirements.txt\n",
        "!pip install huggingface_hub\n",
        "!pip install llama-cpp-python==0.1.78\n",
        "!pip install numpy==1.23.4\n",
        "!pip install gdown==v4.6.3\n",
        "!pip install openai\n",
        "!pip install langchain_experimental\n",
        "\n",
        "!gdown https://drive.google.com/file/d/10_inKhFuY5O8Sel88ZvlTqODsbbh4ula/view?usp=drive_link -O /content/functional_trait_literature_zipped.zip --fuzzy\n",
        "\n",
        "!unzip /content/functional_trait_literature_zipped.zip"
      ]
    },
    {
      "cell_type": "markdown",
      "source": [
        "# Chunk and store\n",
        "\n",
        "In this portion, we'll chunk all the files into smaller paragraphs and use that for generating embeddings. We'll separately store the chunks so we can use it later, without having to re-download all the literature again.\n",
        "\n",
        "### References/Notes related to chunking\n",
        "1. https://openai.com/blog/new-and-improved-embedding-model\n",
        "2. text-embedding-ada-002 is the best model for text embedding generation\n",
        "3. https://www.pinecone.io/learn/chunking-strategies/\n",
        "4. https://python.langchain.com/docs/modules/data_connection/document_loaders/pdf#using-pypdf\n",
        "\n",
        "### Possible strategies for chunking\n",
        "1. LaTex: LaTeX is a document preparation system and markup language often used for academic papers and technical documents. By parsing the LaTeX commands and environments, you can create chunks that respect the logical organization of the content (e.g., sections, subsections, and equations), leading to more accurate and contextually relevant results.\n",
        "2. Latex taxes a string as input, so we will need to read\n",
        "3. Most of these academic papers are written in Latex and then converted to PDF. Our best bet would be to convert the PDF to Latex format first and then use the Latex based chunker to chunk things. This way paragraphs and related information will be together and contextualized.\n",
        "4. On the other hand its not a guarantee that the document was first written in LaTex."
      ],
      "metadata": {
        "id": "aahoQgRnKfZy"
      }
    },
    {
      "cell_type": "code",
      "source": [
        "from langchain.embeddings import HuggingFaceEmbeddings\n",
        "from langchain.vectorstores import FAISS\n",
        "from langchain.document_loaders import PyPDFDirectoryLoader\n",
        "from langchain.text_splitter import RecursiveCharacterTextSplitter\n",
        "from huggingface_hub import hf_hub_download\n",
        "from langchain.docstore.document import Document\n",
        "import pandas as pd\n",
        "import json\n",
        "\n",
        "REPO_ID = \"collaborativeearth/functional_trait_papers\"\n",
        "FILENAME = \"all_afr_carbon_abstracts_only.jsonl\"\n",
        "\n",
        "# Download the chunks from Huggingface. We generated the chunks and uploaded it to Huggingface\n",
        "file_name = hf_hub_download(repo_id=REPO_ID, filename=FILENAME, repo_type=\"dataset\", local_dir=\"/content/\")\n",
        "\n",
        "print(file_name)\n",
        "chunks=[]\n",
        "\n",
        "with open(file_name, \"r\") as final:\n",
        "  chunks = json.load(final)\n",
        "\n",
        "prod_splits=[]\n",
        "\n",
        "for chunk in chunks:\n",
        "  print(type(chunk))\n",
        "  print(chunk)\n",
        "  try:\n",
        "    prod_splits.append(Document(\n",
        "      page_content=chunk['page_content'],\n",
        "      metadata={\n",
        "          \"source\": chunk['title'],\n",
        "          \"id\": chunk['id']\n",
        "      }\n",
        "    ))\n",
        "  except:\n",
        "    print(\"Exception for chunk:\")\n",
        "    print(chunk)\n",
        "\n",
        "print(prod_splits[0])\n",
        "print(prod_splits[1])"
      ],
      "metadata": {
        "id": "K5AJyyJUQo_1"
      },
      "execution_count": null,
      "outputs": []
    },
    {
      "cell_type": "markdown",
      "source": [
        "## Now we will generate embeddings using different models for comparison\n",
        "First one is jina-embedding-l-en-v1"
      ],
      "metadata": {
        "id": "hKPYs7QuoLHs"
      }
    },
    {
      "cell_type": "code",
      "source": [
        "!mkdir \"/content/vectorstore\"\n",
        "DB_JINA_EMBEDDING_PATH = 'vectorstore/db_jina-embedding-l-en-v1'\n",
        "\n",
        "embeddings = HuggingFaceEmbeddings(model_name='jinaai/jina-embedding-b-en-v1',\n",
        "                                       model_kwargs={'device': 'cuda'})\n",
        "\n",
        "db = FAISS.from_documents(prod_splits, embeddings)\n",
        "serialized_bytes = db.serialize_to_bytes()\n",
        "with open(\"/content/vectorstore/serialized_db.txt\", \"wb\") as binary_file:\n",
        "    # Write bytes to file\n",
        "    binary_file.write(serialized_bytes)\n",
        "\n",
        "db.save_local(DB_JINA_EMBEDDING_PATH)"
      ],
      "metadata": {
        "id": "s2LvMgQOPF4v"
      },
      "execution_count": null,
      "outputs": []
    },
    {
      "cell_type": "code",
      "source": [
        "docs = await db.asimilarity_search(\"How can plant functional traits be useful when designing a restoration project?\")\n",
        "print(len(docs))\n",
        "print(docs[0].metadata)\n",
        "print(docs[1].metadata)\n",
        "print(docs[2].metadata)\n",
        "print(docs[3].metadata)"
      ],
      "metadata": {
        "id": "q-hu1Nn3obvO",
        "colab": {
          "base_uri": "https://localhost:8080/"
        },
        "outputId": "7dc91290-639a-4883-e0d6-cc233a0ff970"
      },
      "execution_count": 10,
      "outputs": [
        {
          "output_type": "stream",
          "name": "stdout",
          "text": [
            "4\n",
            "{'source': 'Using large‐scale tropical dry forest restoration to test successional theory', 'id': '9.18'}\n",
            "{'source': 'Restoring Ecosystem Services Tool (REST): a program for selecting species for restoration projects using a functional-trait approach', 'id': '6.18'}\n",
            "{'source': 'Restoring Ecosystem Services Tool (REST): a program for selecting species for restoration projects using a functional-trait approach', 'id': '6.4'}\n",
            "{'source': 'Using soil amendments and plant functional traits to select native tropical dry forest species for the restoration of degraded Vertisols', 'id': '7.30'}\n"
          ]
        }
      ]
    },
    {
      "cell_type": "code",
      "source": [
        "from google.colab import userdata\n",
        "from openai import OpenAI\n",
        "from langchain.chains import RetrievalQA\n",
        "from langchain.chat_models import ChatOpenAI\n",
        "from langchain.document_loaders import TextLoader\n",
        "from langchain.vectorstores import DocArrayInMemorySearch\n",
        "from IPython.display import display, Markdown\n",
        "from langchain.text_splitter import CharacterTextSplitter\n",
        "from langchain.embeddings import OpenAIEmbeddings, HuggingFaceInstructEmbeddings\n",
        "from langchain.vectorstores import FAISS\n",
        "from langchain.memory import ConversationBufferMemory\n",
        "from langchain.chains import ConversationalRetrievalChain, RetrievalQA\n",
        "from langchain.indexes import VectorstoreIndexCreator\n",
        "from langchain_experimental.agents.agent_toolkits.csv.base import create_csv_agent\n",
        "from langchain.agents.agent_types import AgentType\n",
        "from langchain.memory import ConversationBufferMemory\n",
        "from langchain.prompts import PromptTemplate\n",
        "import tiktoken\n",
        "import os\n",
        "\n",
        "OPENAI_API_KEY = userdata.get('COLABORATIVE_EARTH_KEY')\n",
        "llm_model = \"gpt-3.5-turbo\"\n",
        "\n",
        "os.environ[\"OPENAI_API_KEY\"] = OPENAI_API_KEY\n",
        "\n",
        "llm = ChatOpenAI(temperature=0.7, model_name=\"gpt-3.5-turbo\")\n",
        "\n",
        "memory = ConversationBufferMemory(\n",
        "  memory_key='chat_history',\n",
        "  return_messages=False\n",
        ")\n",
        "retriever = db.as_retriever(\n",
        "    search_kwargs={\"k\": 5}\n",
        ")\n",
        "\n",
        "custom_template = \"\"\"You are an AI assistant for assisted restoration papers.\n",
        "You are given the following extracted parts of a long document.\n",
        "=========\n",
        "{context}\n",
        "=========\n",
        "Provide a conversational answer for the following question\n",
        "Question: {question}.\n",
        "If you don't know the answer, just say \"Hmm, I'm not sure.\" Don't try to make up an answer.\n",
        "Answer in Markdown:\"\"\"\n",
        "\n",
        "custom_prompt = PromptTemplate(\n",
        "    template=custom_template,\n",
        "    input_variables=[\"context\", \"question\", \"source\"],\n",
        ")\n",
        "\n",
        "\n",
        "conversation_chain_with_reference_prompt = ConversationalRetrievalChain.from_llm(\n",
        "        llm=llm,\n",
        "        # chain_type=\"stuff\" will go through everything.\n",
        "        # chain_type=\"refine\",\n",
        "        chain_type=\"stuff\",\n",
        "        retriever=retriever,\n",
        "        verbose=True,\n",
        "        memory=memory,\n",
        "        combine_docs_chain_kwargs={\"prompt\": custom_prompt}\n",
        ")\n",
        "\n",
        "\n",
        "conversation_chain_without_reference = ConversationalRetrievalChain.from_llm(\n",
        "        llm=llm,\n",
        "        # chain_type=\"stuff\" will go through everything.\n",
        "        chain_type=\"refine\",\n",
        "        # chain_type=\"stuff\",\n",
        "        retriever=retriever,\n",
        "        # return_source_documents=True,\n",
        "        verbose=True,\n",
        "        memory=memory,\n",
        "        # combine_docs_chain_kwargs={\"question_prompt\": custom_prompt, \"refine_prompt\": custom_prompt}\n",
        ")\n",
        "\n",
        "query = \"What are some strategies for carbon sequestration?\"\n",
        "# result = conversation_chain_with_reference_prompt({\"question\": query})\n",
        "result = conversation_chain_without_reference({\"question\": query})\n",
        "answer = result[\"answer\"]\n",
        "\n",
        "answer"
      ],
      "metadata": {
        "id": "3K8kg2VYy3DG",
        "outputId": "4e986df7-083e-4cf3-aef5-b09ce4beaa2c",
        "colab": {
          "base_uri": "https://localhost:8080/",
          "height": 1000
        }
      },
      "execution_count": 19,
      "outputs": [
        {
          "output_type": "stream",
          "name": "stdout",
          "text": [
            "\n",
            "\n",
            "\u001b[1m> Entering new RefineDocumentsChain chain...\u001b[0m\n",
            "\n",
            "\n",
            "\u001b[1m> Entering new LLMChain chain...\u001b[0m\n",
            "Prompt after formatting:\n",
            "\u001b[32;1m\u001b[1;3mSystem: Context information is below.\n",
            "------------\n",
            "\n",
            "rapidly in the initial 20 years after planting. In contrast, SOC sequestration increased rapidly after 20 years. In addition, evergreen species had higher carbon density in both biomass and soil than deciduous species and economic species (fruit trees). Carbon sequestration in evergreen and deciduous species is greater than in economic species. Our findings provide new evidence on the divergent responses of biomass and soil to carbon sequestration after reforestation with respect to stand ages and vegetation types. This study provides relevant information for ecosystem management as well as for carbon sequestration and global climate change policies.\n",
            "\n",
            "------------\n",
            "Given the context information and not prior knowledge, answer any questions\n",
            "Human: What are some strategies for carbon sequestration?\u001b[0m\n",
            "\n",
            "\u001b[1m> Finished chain.\u001b[0m\n",
            "\n",
            "\n",
            "\u001b[1m> Entering new LLMChain chain...\u001b[0m\n",
            "Prompt after formatting:\n",
            "\u001b[32;1m\u001b[1;3mHuman: What are some strategies for carbon sequestration?\n",
            "AI: Some strategies for carbon sequestration include afforestation (planting trees in areas that were not previously forested), reforestation (replanting trees in areas that have been deforested), agroforestry (integrating trees into agricultural landscapes), soil carbon sequestration (improving soil health to increase carbon storage), bioenergy with carbon capture and storage (BECCS), and direct air capture technologies. These strategies aim to remove carbon dioxide from the atmosphere and store it in vegetation, soils, or geological formations to help mitigate climate change.\n",
            "Human: We have the opportunity to refine the existing answer (only if needed) with some more context below.\n",
            "------------\n",
            "\n",
            "Combustion of coal for energy generation has been a significant contributor to increased concentrations of atmospheric carbon dioxide. It is of interest to evaluate the potential of former coalfields for mitigating these increases by carbon sequestration and to compare different options to achieving this end. Here, carbon sequestration in residual coal seams and through reclamation of spoil tips is compared, and their carbon dioxide storage potential in the South Wales Coalfield estimated. Coal seam sequestration estimates come from an established methodology and consider the total unmined coal resource below 500m deep with potential for carbon sequestration. The most likely effective deep seam storage capacity is 104.9 Mt carbon dioxide, taking account of reservoir conditions and engineering factors. Whilst many spoil tips in South Wales have been reclaimed, the focus has not been on carbon sequestration potential. Estimates of minesoil restoration sequestration capacity were based on a survey of restored minesoil and vegetation carbon stocks, mainly on sites 20-30 years after restoration; data from this survey were then extrapolated to the coalfield as a whole.Minesoil storage is estimated at 1.5 or 2.5 Mt (+ 2.2 Mt in tree biomass) carbon dioxide based on average grassland or woodland measurements, respectively; modelled data predicted equilibrium values of 2.9 and 2.6 Mt carbon dioxide respectively in grassland or woodland minesoils. If all sites achieved close to the maximum capacity in their land use class, minesoil storage capacity would increase to 2.1 or 3.9 Mt carbon dioxide, respectively. Combining the best woodland minesoil and standing biomass values, sequestration capacity increases to 7.2 Mt carbon dioxide. The wider social, economic, environmental and regulatory constraints to achieving this sequestration for each approach are discussed. Coal seam sequestration has a much higher capacity but sequestration in mine sites is less costly and has fewer regulatory constraints. Findings indicate a significant combined potential for carbon sequestration in the South Wales Coalfield and highlight challenges in achieving this potential. On a global scale, ex-coalfield sequestration could contribute to broader efforts to mitigate emissions.\n",
            "\n",
            "------------\n",
            "Given the new context, refine the original answer to better answer the question. If the context isn't useful, return the original answer.\u001b[0m\n",
            "\n",
            "\u001b[1m> Finished chain.\u001b[0m\n",
            "\n",
            "\n",
            "\u001b[1m> Entering new LLMChain chain...\u001b[0m\n",
            "Prompt after formatting:\n",
            "\u001b[32;1m\u001b[1;3mHuman: What are some strategies for carbon sequestration?\n",
            "AI: In addition to the strategies mentioned earlier, coal seam sequestration and reclamation of spoil tips in former coalfields can also be effective methods for carbon sequestration. Coal seam sequestration involves storing carbon dioxide in unmined coal resources below a certain depth, with the potential for significant storage capacity. Reclamation of spoil tips, on the other hand, focuses on restoring the land to promote carbon sequestration through vegetation growth and soil restoration. In the South Wales Coalfield, for example, estimates suggest that both coal seam sequestration and minesoil restoration have the potential to store significant amounts of carbon dioxide. Coal seam sequestration offers higher storage capacity, but reclamation of mine sites is often more cost-effective and faces fewer regulatory constraints. Overall, these strategies present a valuable opportunity for carbon sequestration in former coalfields, contributing to global efforts to mitigate emissions and combat climate change.\n",
            "Human: We have the opportunity to refine the existing answer (only if needed) with some more context below.\n",
            "------------\n",
            "\n",
            "Ecosystem carbon (C) storage and sources of sedimentary organic carbon (SOC) in restored mangrove forests in Vietnam were studied.• Mangrove restoration markedly enhanced sediment organic carbon (OC), ecosystem C storage, and predominantly contributed OC to the sediments.\n",
            "\n",
            "------------\n",
            "Given the new context, refine the original answer to better answer the question. If the context isn't useful, return the original answer.\u001b[0m\n",
            "\n",
            "\u001b[1m> Finished chain.\u001b[0m\n",
            "\n",
            "\n",
            "\u001b[1m> Entering new LLMChain chain...\u001b[0m\n",
            "Prompt after formatting:\n",
            "\u001b[32;1m\u001b[1;3mHuman: What are some strategies for carbon sequestration?\n",
            "AI: The strategies mentioned earlier, such as reclamation of spoil tips in former coalfields, can be further enhanced by considering ecosystem carbon storage and sources of sedimentary organic carbon (SOC). Studies have shown that restoring mangrove forests, for example, can significantly enhance sediment organic carbon (OC) storage and ecosystem C storage. This approach not only contributes to carbon sequestration but also enriches the biodiversity and ecosystem services of the restored areas. By incorporating such nature-based solutions into carbon sequestration strategies, we can maximize the benefits of carbon storage while promoting ecological restoration and resilience.\n",
            "Human: We have the opportunity to refine the existing answer (only if needed) with some more context below.\n",
            "------------\n",
            "\n",
            "International agendas focus on limiting unchecked climate change through extensive mitigation. Worldwide, several reforestation initiatives strive to achieve ambitious goals and promote carbon sequestration on land. The greatest potential for reforestation lies within the tropics, and the Atlantic Forest is among the protagonists. However, little is known about the potential of these reforestations to mitigate climate change. Here, we assessed the carbon sequestration potential of Atlantic Forest reforestations, both in the field and in the available scientific literature. We demonstrate that the Atlantic Forest reforestations provide valuable contributions to climate change mitigation. Even at young age, reforestations have astonishing potential, with much higher carbon sequestration rates than un-assisted natural regeneration of later successional stages. Although with lesser potential, un-assisted natural regeneration remnants can also be a valuable strategy to aid climate mitigation, especially when close to reforestations or old-growth forests. We found far greater potential of sequestration in all types of forests inside protected areas than unprotected ones, highlighting the noteworthy benefits of conservation that buffers degradation. Climate action is urgent, and the Atlantic Forest certainly is a great contributor to the achievement of such ambitious goals.\n",
            "\n",
            "------------\n",
            "Given the new context, refine the original answer to better answer the question. If the context isn't useful, return the original answer.\u001b[0m\n",
            "\n",
            "\u001b[1m> Finished chain.\u001b[0m\n",
            "\n",
            "\n",
            "\u001b[1m> Entering new LLMChain chain...\u001b[0m\n",
            "Prompt after formatting:\n",
            "\u001b[32;1m\u001b[1;3mHuman: What are some strategies for carbon sequestration?\n",
            "AI: In addition to reforestation initiatives and the restoration of mangrove forests, another effective strategy for carbon sequestration is the protection and conservation of existing forests, especially those within protected areas like the Atlantic Forest. These forests have been shown to have a greater potential for carbon sequestration compared to unprotected areas. By preserving these ecosystems, we can maximize their ability to store carbon and contribute to global climate change mitigation efforts. Furthermore, promoting the natural regeneration of forests in close proximity to reforestation projects or old-growth forests can also enhance carbon sequestration rates. By combining these strategies with nature-based solutions, we can optimize carbon storage potential while supporting biodiversity and ecosystem health.\n",
            "Human: We have the opportunity to refine the existing answer (only if needed) with some more context below.\n",
            "------------\n",
            "\n",
            "Large-scale afforestation is a key measure to mitigate global warming, however, implementation may result in land-use competition with agriculture. To avoid such competition, carbon mitigation methods using arid and semi-arid areas have been proposed, but to our knowledge there is no report of rates of sequestration based on long-term observations from actual experimentation. In this study (1999)(2000)(2001)(2002)(2003)(2004)(2005)(2006)(2007)(2008)(2009)(2010)(2011)(2012)(2013)(2014)(2015), in an arid area near Leonora, Western Australia (annual rainfall: 220 mm year -1 ; pan evaporation: 3400 mm year -1 ), carbon sequestration was assessed in above and below ground biomass in Eucalyptus camaldulensis under ambient conditions and with active site amelioration (combination of water harvesting with large mounds and hardpan blasting). The carbon sequestration rate was estimated at 7.92 Mg-CO 2 -e ha -1 year -1 for a total carbon sink of 230 Mg-CO 2 -e ha -1 . Carbon mitigation may thus be a viable option in arid regions, not only in Western Australia but globally, and can be enhanced with active site engineering. emissions including other greenhouse gases (GHG) from land use change were the highest in human history, reaching 49 ( ± 4.5) Gt-CO 2e year -1 in 2010 (IPCC, 2014). These emissions are causing changes in the climate that will have major impacts across the global economy.\n",
            "\n",
            "------------\n",
            "Given the new context, refine the original answer to better answer the question. If the context isn't useful, return the original answer.\u001b[0m\n",
            "\n",
            "\u001b[1m> Finished chain.\u001b[0m\n",
            "\n",
            "\u001b[1m> Finished chain.\u001b[0m\n"
          ]
        },
        {
          "output_type": "execute_result",
          "data": {
            "text/plain": [
              "'In addition to reforestation initiatives and the restoration of mangrove forests, another effective strategy for carbon sequestration is the protection and conservation of existing forests, especially those within protected areas like the Atlantic Forest. These forests have been shown to have a greater potential for carbon sequestration compared to unprotected areas. By preserving these ecosystems, we can maximize their ability to store carbon and contribute to global climate change mitigation efforts. Furthermore, promoting the natural regeneration of forests in close proximity to reforestation projects or old-growth forests can also enhance carbon sequestration rates. By combining these strategies with nature-based solutions, we can optimize carbon storage potential while supporting biodiversity and ecosystem health. Additionally, active site engineering, as demonstrated in the study in arid regions of Western Australia, can enhance carbon sequestration rates in such areas, providing another viable option for carbon mitigation globally.'"
            ],
            "application/vnd.google.colaboratory.intrinsic+json": {
              "type": "string"
            }
          },
          "metadata": {},
          "execution_count": 19
        }
      ]
    },
    {
      "cell_type": "markdown",
      "source": [
        "###TODO\n",
        "1. Add a cross encoder after the retrieval stage to re-rank the results before feeding it to the API.\n",
        "2. Alternately, or maybe along with this, we may also want to combine several chunks to send as context, depending on the context lenght.\n",
        "3. Or perhaps we also chunk in small portions and combine results to send to OpenAI. This way answers can be formed based on chunks from different papers and different sections.\n",
        "4. Update this RAG to cite sources from the context provided. Refence: https://blog.langchain.dev/langchain-chat/\n",
        "\n",
        "https://towardsdatascience.com/4-ways-of-question-answering-in-langchain-188c6707cc5a"
      ],
      "metadata": {
        "id": "OLk6TAvQyMip"
      }
    }
  ]
}