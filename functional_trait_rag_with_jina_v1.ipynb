{
  "nbformat": 4,
  "nbformat_minor": 0,
  "metadata": {
    "colab": {
      "provenance": [],
      "gpuType": "V100",
      "authorship_tag": "ABX9TyNzDHLpq4L0fUYA/sw7a0Br",
      "include_colab_link": true
    },
    "kernelspec": {
      "name": "python3",
      "display_name": "Python 3"
    },
    "language_info": {
      "name": "python"
    },
    "accelerator": "GPU"
  },
  "cells": [
    {
      "cell_type": "markdown",
      "metadata": {
        "id": "view-in-github",
        "colab_type": "text"
      },
      "source": [
        "<a href=\"https://colab.research.google.com/github/smthomas1704/restoration-rag/blob/main/functional_trait_rag_with_jina_v1.ipynb\" target=\"_parent\"><img src=\"https://colab.research.google.com/assets/colab-badge.svg\" alt=\"Open In Colab\"/></a>"
      ]
    },
    {
      "cell_type": "markdown",
      "source": [
        "# Download\n",
        "Download the zipped literature file from this Google Drive location"
      ],
      "metadata": {
        "id": "-PnazWDSRIPN"
      }
    },
    {
      "cell_type": "code",
      "execution_count": null,
      "metadata": {
        "id": "i0MbHH-sKD9i"
      },
      "outputs": [],
      "source": [
        "!git clone https://github.com/smthomas1704/restoration-rag.git\n",
        "\n",
        "!pip install -r restoration-rag/requirements.txt\n",
        "!pip install huggingface_hub\n",
        "!pip install llama-cpp-python==0.1.78\n",
        "!pip install numpy==1.23.4\n",
        "!pip install gdown==v4.6.3\n",
        "!pip install openai\n",
        "!pip install langchain_experimental\n",
        "\n",
        "!gdown https://drive.google.com/file/d/10_inKhFuY5O8Sel88ZvlTqODsbbh4ula/view?usp=drive_link -O /content/functional_trait_literature_zipped.zip --fuzzy\n",
        "\n",
        "!unzip /content/functional_trait_literature_zipped.zip"
      ]
    },
    {
      "cell_type": "markdown",
      "source": [
        "# Chunk and store\n",
        "\n",
        "In this portion, we'll chunk all the files into smaller paragraphs and use that for generating embeddings. We'll separately store the chunks so we can use it later, without having to re-download all the literature again.\n",
        "\n",
        "### References/Notes related to chunking\n",
        "1. https://openai.com/blog/new-and-improved-embedding-model\n",
        "2. text-embedding-ada-002 is the best model for text embedding generation\n",
        "3. https://www.pinecone.io/learn/chunking-strategies/\n",
        "4. https://python.langchain.com/docs/modules/data_connection/document_loaders/pdf#using-pypdf\n",
        "\n",
        "### Possible strategies for chunking\n",
        "1. LaTex: LaTeX is a document preparation system and markup language often used for academic papers and technical documents. By parsing the LaTeX commands and environments, you can create chunks that respect the logical organization of the content (e.g., sections, subsections, and equations), leading to more accurate and contextually relevant results.\n",
        "2. Latex taxes a string as input, so we will need to read\n",
        "3. Most of these academic papers are written in Latex and then converted to PDF. Our best bet would be to convert the PDF to Latex format first and then use the Latex based chunker to chunk things. This way paragraphs and related information will be together and contextualized.\n",
        "4. On the other hand its not a guarantee that the document was first written in LaTex."
      ],
      "metadata": {
        "id": "aahoQgRnKfZy"
      }
    },
    {
      "cell_type": "code",
      "source": [
        "from langchain.embeddings import HuggingFaceEmbeddings\n",
        "from langchain.vectorstores import FAISS\n",
        "from langchain.document_loaders import PyPDFDirectoryLoader\n",
        "from langchain.text_splitter import RecursiveCharacterTextSplitter\n",
        "from huggingface_hub import hf_hub_download\n",
        "from langchain.docstore.document import Document\n",
        "import pandas as pd\n",
        "import json\n",
        "\n",
        "REPO_ID = \"collaborativeearth/functional_trait_papers\"\n",
        "FILENAME = \"all_afr_carbon_large_chunks.jsonl\"\n",
        "\n",
        "# Download the chunks from Huggingface. We generated the chunks and uploaded it to Huggingface\n",
        "file_name = hf_hub_download(repo_id=REPO_ID, filename=FILENAME, repo_type=\"dataset\", local_dir=\"/content/\")\n",
        "\n",
        "print(file_name)\n",
        "chunks=[]\n",
        "\n",
        "with open(file_name, \"r\") as final:\n",
        "  chunks = json.load(final)\n",
        "\n",
        "prod_splits=[]\n",
        "\n",
        "for chunk in chunks:\n",
        "  try:\n",
        "    prod_splits.append(Document(\n",
        "      page_content=chunk['page_content'],\n",
        "      metadata={\n",
        "          \"source\": chunk['title'],\n",
        "          \"id\": chunk['id']\n",
        "      }\n",
        "    ))\n",
        "  except:\n",
        "    print(\"Exception for chunk:\")\n",
        "    print(chunk)\n",
        "\n",
        "print(prod_splits[0])\n",
        "print(prod_splits[1])"
      ],
      "metadata": {
        "id": "K5AJyyJUQo_1",
        "colab": {
          "base_uri": "https://localhost:8080/"
        },
        "outputId": "318b895f-8e5a-47db-dac7-23e97be6801c"
      },
      "execution_count": 2,
      "outputs": [
        {
          "output_type": "stream",
          "name": "stdout",
          "text": [
            "/content/all_afr_carbon_large_chunks.jsonl\n",
            "page_content='Tropical forests are important carbon pools, comprising approximately 40% of terrestrial carbon storage (Dixon et al., 1994). The tropical forests are among the most productive ecosystems on the earth, estimated to account for above one-third of global net primary productivity (NPP) (Gaston et al., 1998;Field et al., 1998), but have been relatively under-sampled compared with their importance. Tropical deciduous forests are forests occurring in tropical regions characterized by pronounced seasonality in rainfall distribution, with few months of drought period.\\nThe aboveground biomass (AGB) of a forest ecosystem is one of the fundamental parameters describing its functioning. Studies on biomass of forest vegetation are essential for determining storage of the carbon in the dominant tree component and computing the carbon cycling at regional as well as global level. Measurement of AGB of dominant tree species in different forest communities/plant functional types is of great importance because the dominant tree species greatly influence the magnitude and pattern of energy flow that is stored in trunks, branches, leaves and roots in the form of various organic substances and material remained in continuous circulation between biotic and abiotic components of the ecosystem. The quantity of AGB in a forest is the result of the difference between production through photosynthesis and consumption through respiration, mortality, harvest, and herbivory.\\nEstimation of AGB is an essential aspect of studies of carbon stocks and global carbon balance (Ketterings et al., 2001). Estimating AGB is a useful measure for comparing structural and functional attributes of forest ecosystems across a wide range of environmental conditions (Brown et al., 1999). Permanent sampling plots have long been used in ecological studies for assessing how much biomass is held in ecosystem (Brown, 2002;Fearnside, 1996). Tree AGB is strongly correlated with trunk diameter (Brown and Lugo, 1992;Brown, 1997) and it is therefore possible to use forest inventory data to estimate the stocks and changes in AGB in those inventories. So far different studies have been conducted to estimate AGB and they have mostly used diameter and height (Chave et al., 2001;Clark et al., 2001;Cummings et al., 2002;DeWalt and Chave, 2004;Malhi et al., 2004;Nascimento and Laurance, 2004;Segura and Kanninen, 2005). Variations in environmental factors such as topography, hydrology and edaphic characteristics (e.g soil nutrient availability) may also complicate attempts to generalize stand density and AGB over regional or landscape scale (Clark and Clark, 2000). AGB is thus of direct applied importance for estimating ecosystem carbon storage and fluxes (Brown, 1997;Baker et al., 2004;Fearnside, 1997;Nelson et al., 1999). Biomass fluctuation with time and space involving stand dynamics can be estimated by repeated tree census, so that changes due to growth and mortality of trees can be followed in a given area (Chave et al., 2003).\\nIndian forests are a major tropical forest ecosystem constituting nearly 701,673 sq. km (70.17 million ha), 21.34% of the geographical area of country (State of forest report (SFR), 2015). Indian tropical deciduous forest are species rich with associates of varied phenophases having irregular distribution of stem densities and basal cover. Additionally, Indian deciduous forests have multistoried canopy with different microclimate which makes it complex for understanding the patters of AGB within and among different plant functional types (PFTs) over space and time (Blackburn and Gaston, 1996;Behera et al., 2012). There remains much uncertainty how tropical forests will respond to future climate changes (Gaston et al., 1998). Information on AGB and AGBC at PFT class level in Indian tropical deciduous forests is needed for real-time assessment of national carbon stock and further global carbon crediting. Studying the AGB patterns in different PFT class will help to understand the response of climatic changes on these ecosystems and future scenarios. Detailed species level AGB measurements in different PFT classes will help to identify the keystone species sequestering higher AGB, for sustainable carbon stock management and biodiversity conservation. PFT class wise AGB assessment will also help to validate the projections of global carbon model output with ground data. Estimating the biomass stock of tropical deciduous forests and understanding their role in regulating the cycling of carbon and nutrients is on high priority (Cairns et al., 1997). Although few past studies including remote sensing approach attempted to estimate the AGB and biomass carbon in Terai regions including Doon valley, no detailed study exist investigating the patters of AGB and biomass carbon at PFT level from Indian tropical deciduous forests (Kumar, 2009;Pandey et al., 2010;Mandal and Joshi, 2014;Mohommad and Joshi, 2015). Considering the above research gaps, the presents study was undertaken in Katerniaghat Wildlife Sanctuary at Terai region of Uttar Pradesh, India. The main objective of present study were (1) to estimate the species level AGB and AGBC in PFTs i.e. dry mixed (DM), sal mixed (SM) and teak plantation (TP) using annual DBH inventory records from long term ecological research permanent plots (LTER) and ( 2) to analyze the relation between AGB with community, as well as structural and functional variables such as species richness, basal cover, stem density, litter fall and leaf area index (LAI) in three PFTs having distinct tree species composition, different edaphic factors and microclimate conditions within a tropical moist deciduous forest ecosystem. Additionally, we attempted to establish relationship between PFT microclimate, community structural variables and diversity indices with stand AGB by having principal compo-nent analysis (PCA). We also explored the relationship between PFT AGB and annual litter fall.' metadata={'source': 'Aboveground biomass and carbon stock assessment in Indian tropical deciduous forest and relationship with stand structural attributes', 'id': '0.1'}\n",
            "page_content='The present study was undertaken at Katerniaghat Wildlife Sanctuary (KWLS), a tropical moist deciduous forest in the upper Gangetic plains adjoining Himalayan foothills in Uttar Pradesh state, India (Fig. 1). The KWLS is situated between 27 • 41 and 27 • 56 N latitude; and 81 • 48 and 81 • 56 E longitude, with elevation ranges from 116 to 165 m along the southern border of Nepal. The site experiences climatic variation, typical of northern India with extremes of heat and cold; and winter nights are very cold and foggy and heavy dew falls regularly. Heavy monsoon rain is experienced from June end to September, and along with the winter rainfall having an average annual rainfall of about 1300 mm (Behera et al., 2012).' metadata={'source': 'Aboveground biomass and carbon stock assessment in Indian tropical deciduous forest and relationship with stand structural attributes', 'id': '0.3'}\n"
          ]
        }
      ]
    },
    {
      "cell_type": "markdown",
      "source": [
        "## Now we will generate embeddings using different models for comparison\n",
        "First one is jina-embedding-l-en-v1"
      ],
      "metadata": {
        "id": "hKPYs7QuoLHs"
      }
    },
    {
      "cell_type": "code",
      "source": [
        "!mkdir \"/content/vectorstore\"\n",
        "DB_JINA_EMBEDDING_PATH = 'vectorstore/db_jina-embedding-l-en-v1'\n",
        "\n",
        "embeddings = HuggingFaceEmbeddings(model_name='jinaai/jina-embedding-b-en-v1',\n",
        "                                       model_kwargs={'device': 'cuda'})\n",
        "\n",
        "db = FAISS.from_documents(prod_splits, embeddings)\n",
        "serialized_bytes = db.serialize_to_bytes()\n",
        "with open(\"/content/vectorstore/serialized_db.txt\", \"wb\") as binary_file:\n",
        "    # Write bytes to file\n",
        "    binary_file.write(serialized_bytes)\n",
        "\n",
        "db.save_local(DB_JINA_EMBEDDING_PATH)"
      ],
      "metadata": {
        "id": "s2LvMgQOPF4v"
      },
      "execution_count": 3,
      "outputs": []
    },
    {
      "cell_type": "code",
      "source": [
        "docs = await db.asimilarity_search(\"How can plant functional traits be useful when designing a restoration project?\")\n",
        "print(len(docs))\n",
        "print(docs[0].metadata)\n",
        "print(docs[1].metadata)\n",
        "print(docs[2].metadata)\n",
        "print(docs[3].metadata)"
      ],
      "metadata": {
        "id": "q-hu1Nn3obvO",
        "colab": {
          "base_uri": "https://localhost:8080/"
        },
        "outputId": "5d3111c4-d8f2-46ea-e415-10fd99ed87a6"
      },
      "execution_count": 4,
      "outputs": [
        {
          "output_type": "stream",
          "name": "stdout",
          "text": [
            "4\n",
            "{'source': 'Restoring Ecosystem Services Tool (REST): A Computer Program for Selecting Species for Restoration Projects Using a Functional-Trait Approach', 'id': '267.20'}\n",
            "{'source': 'Restoring Ecosystem Services Tool (REST): A Computer Program for Selecting Species for Restoration Projects Using a Functional-Trait Approach', 'id': '267.18'}\n",
            "{'source': 'Using large-scale tropical dry forest restoration to test successional theory', 'id': '202.18'}\n",
            "{'source': 'Restoring Ecosystem Services Tool (REST): A Computer Program for Selecting Species for Restoration Projects Using a Functional-Trait Approach', 'id': '267.4'}\n"
          ]
        }
      ]
    },
    {
      "cell_type": "code",
      "source": [
        "from google.colab import userdata\n",
        "from openai import OpenAI\n",
        "from langchain.chains import RetrievalQA\n",
        "from langchain.chat_models import ChatOpenAI\n",
        "from langchain.document_loaders import TextLoader\n",
        "from langchain.vectorstores import DocArrayInMemorySearch\n",
        "from IPython.display import display, Markdown\n",
        "from langchain.text_splitter import CharacterTextSplitter\n",
        "from langchain.embeddings import OpenAIEmbeddings, HuggingFaceInstructEmbeddings\n",
        "from langchain.vectorstores import FAISS\n",
        "from langchain.memory import ConversationBufferMemory\n",
        "from langchain.chains import ConversationalRetrievalChain, RetrievalQA\n",
        "from langchain.indexes import VectorstoreIndexCreator\n",
        "from langchain_experimental.agents.agent_toolkits.csv.base import create_csv_agent\n",
        "from langchain.agents.agent_types import AgentType\n",
        "from langchain.memory import ConversationBufferMemory\n",
        "from langchain.prompts import PromptTemplate\n",
        "import tiktoken\n",
        "import os\n",
        "\n",
        "OPENAI_API_KEY = userdata.get('COLABORATIVE_EARTH_KEY')\n",
        "llm_model = \"gpt-3.5-turbo\"\n",
        "\n",
        "os.environ[\"OPENAI_API_KEY\"] = OPENAI_API_KEY\n",
        "\n",
        "llm = ChatOpenAI(temperature=0.7, model_name=\"gpt-3.5-turbo\")\n",
        "\n",
        "memory = ConversationBufferMemory(\n",
        "  memory_key='chat_history',\n",
        "  return_messages=False\n",
        ")\n",
        "\n",
        "retriever = db.as_retriever(\n",
        "    search_kwargs={\"k\": 5}\n",
        ")\n",
        "\n",
        "custom_template = \"\"\"You are an AI assistant for assisted restoration papers.\n",
        "You are given the following extracted parts of a long document.\n",
        "=========\n",
        "{context}\n",
        "=========\n",
        "Provide a conversational answer for the following question\n",
        "Question: {question}.\n",
        "If you don't know the answer, just say \"Hmm, I'm not sure.\" Don't try to make up an answer.\n",
        "Answer in Markdown:\"\"\"\n",
        "\n",
        "\n",
        "conversation_chain_without_reference = ConversationalRetrievalChain.from_llm(\n",
        "        llm=llm,\n",
        "        # chain_type=\"stuff\" will go through everything.\n",
        "        # chain_type=\"refine\",\n",
        "        chain_type=\"stuff\",\n",
        "        retriever=retriever,\n",
        "        # return_source_documents=True,\n",
        "        verbose=True,\n",
        "        memory=memory,\n",
        "        # combine_docs_chain_kwargs={\"question_prompt\": custom_prompt, \"refine_prompt\": custom_prompt}\n",
        ")\n",
        "\n",
        "query = \"What are some strategies for carbon sequestration?\"\n",
        "\n",
        "docs = db.similarity_search(query)\n",
        "for doc in docs:\n",
        "  print(doc)\n",
        "\n",
        "result = conversation_chain_without_reference({\"question\": query})\n",
        "answer = result[\"answer\"]\n",
        "\n",
        "answer"
      ],
      "metadata": {
        "id": "3K8kg2VYy3DG",
        "colab": {
          "base_uri": "https://localhost:8080/",
          "height": 752
        },
        "outputId": "b2461e34-5e44-45fc-c35d-98f9cb404d64"
      },
      "execution_count": 8,
      "outputs": [
        {
          "output_type": "stream",
          "name": "stdout",
          "text": [
            "page_content='One management goal may be to maximize carbon storage across the landscape.\\nTraits that are associated with plant growth and nutrient cycling are included here.' metadata={'source': 'Restoring Ecosystem Services Tool (REST): A Computer Program for Selecting Species for Restoration Projects Using a Functional-Trait Approach', 'id': '267.22'}\n",
            "page_content='Estimation of C-stocks in MMW revealed the high potential of mangroves for sequestering carbon. The plantations can ' metadata={'source': 'Carbon stocks in natural and planted mangrove forests of Mahanadi Mangrove Wetland, East Coast of India', 'id': '58.10'}\n",
            "page_content='In conclusion, forest is the land use pattern with the highest capacity for carbon sequestration, thus playing an extremely important role in alleviating global warming. The effect of different land use patterns on soil carbon sequestration was evaluated in this study, which will provide baseline data for forest management and land use planning, especially for enhancing carbon stock sequestered by forests.' metadata={'source': 'Soil Organic Carbon Pools under Different Land Use Patterns along Dongjiang River Valley of Guangdong Province, China', 'id': '47.6'}\n",
            "page_content='The amount of C-sequestrated was determined as the difference of carbon density of study area and carbon density of adjoining barren land. To calculate the rate of CO 2 mitigation, the rate of Csequestrations was multiplied by a factor of 3.67.' metadata={'source': 'Carbon density and C-sequestration of tree plantation ecosystems in the mid-hills of the NW-Himalayas: Implications for climate change mitigation', 'id': '471.6'}\n",
            "\n",
            "\n",
            "\u001b[1m> Entering new StuffDocumentsChain chain...\u001b[0m\n",
            "\n",
            "\n",
            "\u001b[1m> Entering new LLMChain chain...\u001b[0m\n",
            "Prompt after formatting:\n",
            "\u001b[32;1m\u001b[1;3mSystem: Use the following pieces of context to answer the user's question. \n",
            "If you don't know the answer, just say that you don't know, don't try to make up an answer.\n",
            "----------------\n",
            "One management goal may be to maximize carbon storage across the landscape.\n",
            "Traits that are associated with plant growth and nutrient cycling are included here.\n",
            "\n",
            "Estimation of C-stocks in MMW revealed the high potential of mangroves for sequestering carbon. The plantations can \n",
            "\n",
            "In conclusion, forest is the land use pattern with the highest capacity for carbon sequestration, thus playing an extremely important role in alleviating global warming. The effect of different land use patterns on soil carbon sequestration was evaluated in this study, which will provide baseline data for forest management and land use planning, especially for enhancing carbon stock sequestered by forests.\n",
            "\n",
            "The amount of C-sequestrated was determined as the difference of carbon density of study area and carbon density of adjoining barren land. To calculate the rate of CO 2 mitigation, the rate of Csequestrations was multiplied by a factor of 3.67.\n",
            "\n",
            "The present work calls for attention on the mangrove stands of low carbon holding for remedial measures through soil management to improve the carbon storage and sequestration potential towards mitigating the global warming. In addition, much understanding of the factors that influence carbon accumulation in the mangrove ecosystems is required. \n",
            "Human: What are some strategies for carbon sequestration?\u001b[0m\n",
            "\n",
            "\u001b[1m> Finished chain.\u001b[0m\n",
            "\n",
            "\u001b[1m> Finished chain.\u001b[0m\n"
          ]
        },
        {
          "output_type": "execute_result",
          "data": {
            "text/plain": [
              "'Some strategies for carbon sequestration include:\\n\\n1. **Afforestation and Reforestation:** Planting trees and restoring forests can help increase carbon storage capacity.\\n\\n2. **Soil Management:** Improving soil health through practices like no-till agriculture, cover cropping, and organic farming can enhance carbon sequestration in the soil.\\n\\n3. **Wetland Restoration:** Restoring wetlands like mangroves can help sequester carbon due to their high carbon storage capacity.\\n\\n4. **Bioenergy with Carbon Capture and Storage (BECCS):** This technology involves capturing carbon dioxide emissions from bioenergy production and storing it underground.\\n\\n5. **Carbon Capture and Storage (CCS):** This involves capturing carbon dioxide emissions from industrial processes or power plants and storing it underground to prevent it from entering the atmosphere.\\n\\n6. **Improved Forest Management:** Sustainable forest management practices can help maintain or increase carbon stocks in forests.\\n\\n7. **Crop Residue Management:** Utilizing crop residues for bioenergy production or returning them to the soil can enhance carbon sequestration.\\n\\n8. **Carbon Farming:** Implementing agricultural practices that increase carbon storage in soils, such as agroforestry or rotational grazing.\\n\\nThese strategies can help mitigate global warming by reducing the amount of carbon dioxide in the atmosphere.'"
            ],
            "application/vnd.google.colaboratory.intrinsic+json": {
              "type": "string"
            }
          },
          "metadata": {},
          "execution_count": 8
        }
      ]
    },
    {
      "cell_type": "markdown",
      "source": [
        "###TODO\n",
        "1. Add a cross encoder after the retrieval stage to re-rank the results before feeding it to the API.\n",
        "2. Alternately, or maybe along with this, we may also want to combine several chunks to send as context, depending on the context lenght.\n",
        "3. Or perhaps we also chunk in small portions and combine results to send to OpenAI. This way answers can be formed based on chunks from different papers and different sections.\n",
        "4. Update this RAG to cite sources from the context provided. Refence: https://blog.langchain.dev/langchain-chat/\n",
        "\n",
        "https://towardsdatascience.com/4-ways-of-question-answering-in-langchain-188c6707cc5a"
      ],
      "metadata": {
        "id": "OLk6TAvQyMip"
      }
    }
  ]
}